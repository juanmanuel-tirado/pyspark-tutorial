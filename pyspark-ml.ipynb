{
 "cells": [
  {
   "cell_type": "raw",
   "id": "25f245d0-4f62-4e1b-afae-11277ced4f2b",
   "metadata": {},
   "source": [
    "# Exported using pretty-jupytter\n",
    "# https://github.com/JanPalasek/pretty-jupyter\n",
    "title: \"PySpark MLlib tutorial \"\n",
    "author: \"Juan M. Tirado\"\n",
    "output:\n",
    "    general:\n",
    "        input: false\n",
    "    html:\n",
    "        toc: true"
   ]
  },
  {
   "cell_type": "markdown",
   "id": "15c39c48-87e6-4ba0-9bad-76129dfa5a7f",
   "metadata": {
    "jp-MarkdownHeadingCollapsed": true,
    "slideshow": {
     "slide_type": "slide"
    }
   },
   "source": [
    "# Introduction\n",
    "\n",
    "This notebook is a collection of examples that illustrate how to use PySpark with MLlib. This whole collection of examples is intended to be a gentle introduction to those interested in the topic, want to have additional examples, or simply are curious about how to start with this library.\n",
    "\n",
    "The following skills are expected to follow these examples:\n",
    "- Python\n",
    "- Understanding Spark structures (Dataframes, RDD)\n",
    "- Basic ML notions. This is not intended to be a ML course although, you can find some theoretical explanations.\n",
    "\n",
    "The examples are designed to work with a simple local environment using the MLlib Dataframe. The MLlib RDD-based API is now in maintenance ([see here](https://spark.apache.org/docs/latest/ml-guide.html#announcement-dataframe-based-api-is-primary-api)). This is why you will see that the main import statement comes from `pyspark.ml` not `pyspark.mllib`.\n",
    "\n",
    "You will need a spark environment to be available in your local path. Refer [here](https://spark.apache.org/docs/latest/api/python/getting_started/install.html) to the official guide for more details. \n",
    "\n",
    "You will need java to be available on your local path. Check it out running `java --version`. If nothing is displayed, check out how to install Java on your machine ([here](https://www.oracle.com/java/technologies/downloads/)). Next, you can easily set up a local environment and install the dependencies used in this notebook.\n",
    "\n",
    "```bash\n",
    "virtualenv env\n",
    "source env/bin/activate\n",
    "pip install urllib3 numpy matplotlib pyspark\n",
    "```\n",
    "\n",
    "Wait until the dependencies are already satisfied. If you are not reading these lines from a Jupyter Notebook :) install and run it.\n",
    "\n",
    "```bash\n",
    "pip install jupyter\n",
    "jupyter-notebook\n",
    "```"
   ]
  },
  {
   "cell_type": "markdown",
   "id": "88251ce8-8bc1-44f0-a787-c8caee3df44c",
   "metadata": {
    "slideshow": {
     "slide_type": "slide"
    }
   },
   "source": [
    "# Data types\n",
    "\n",
    "Spark Dataframes support a collection of rows containing elements with different data types. In the context of ML algorithms, data types such as `boolean`, `string` or even `integer` are not the expected input for most ML algorithms. In this sense, MLlib supports data types such as vectors or matrices. \n",
    "\n",
    "## Dense Vectors\n",
    "\n",
    "A dense vector is an array. PySpark uses `numpy` to run algebraical operations.\n",
    "\n",
    "[Docs](https://spark.apache.org/docs/3.5.0/api/python/reference/api/pyspark.ml.linalg.DenseVector.html)"
   ]
  },
  {
   "cell_type": "code",
   "execution_count": 1,
   "id": "34141ebc-3cee-4c77-86c8-2bb33401f556",
   "metadata": {
    "slideshow": {
     "slide_type": "subslide"
    }
   },
   "outputs": [
    {
     "name": "stdout",
     "output_type": "stream",
     "text": [
      "Sum:  [10.0,11.0,12.0,13.0,14.0]\n",
      "Difference:  [-10.0,-9.0,-8.0,-7.0,-6.0]\n",
      "Multiplication:  [0.0,2.0,4.0,6.0,8.0]\n",
      "Division:  [5.0,5.0,5.0,5.0,5.0]\n",
      "Non-zeros:  (array([1, 2, 3, 4]),)\n",
      "Squared distance:  330.0\n"
     ]
    }
   ],
   "source": [
    "from pyspark.ml.linalg import DenseVector\n",
    "\n",
    "a = DenseVector([0,1,2,3,4])\n",
    "b = DenseVector([10,10,10,10,10])\n",
    "\n",
    "print('Sum: ', a + b)\n",
    "print('Difference: ', a - b)\n",
    "print('Multiplication: ', a * 2)\n",
    "print('Division: ', b / 2)\n",
    "\n",
    "print('Non-zeros: ', a.nonzero())\n",
    "print('Squared distance: ', a.squared_distance(b))"
   ]
  },
  {
   "cell_type": "markdown",
   "id": "030d382c-f9e3-4338-9751-7d7f851de0c1",
   "metadata": {},
   "source": [
    "## Sparse Vectors\n",
    "\n",
    "Sparse vectors are designed to represent those vectors where a large number of elements is expected to be zero. These vectors are defined by specifying which positions of the array are different from zero and the assigned values. In \n",
    "\n",
    "```python\n",
    "SparseVector (5 ,[0 ,2 ,4] ,[1 ,3 ,5])\n",
    "```\n",
    "\n",
    "we have five elements with entries 0, 2, and 4 take values 1, 3, and 5.\n",
    "\n",
    "[Docs](https://spark.apache.org/docs/3.5.0/api/python/reference/api/pyspark.ml.linalg.SparseVector.html)"
   ]
  },
  {
   "cell_type": "code",
   "execution_count": 2,
   "id": "caca949e-50ba-45c3-855d-a327dfdc1f55",
   "metadata": {},
   "outputs": [
    {
     "name": "stdout",
     "output_type": "stream",
     "text": [
      "Sparse vector:  [1. 0. 3. 0. 5.]\n",
      "Indices:  [0 2 4]\n",
      "Non zeros:  3\n"
     ]
    }
   ],
   "source": [
    "from pyspark.ml.linalg import SparseVector\n",
    "\n",
    "sparse_vector = SparseVector (5 ,[0 ,2 ,4] ,[1 ,3 ,5])\n",
    "print('Sparse vector: ', sparse_vector.toArray ())\n",
    "print('Indices: ', sparse_vector.indices )\n",
    "print('Non zeros: ', sparse_vector.numNonzeros ())"
   ]
  },
  {
   "cell_type": "markdown",
   "id": "3e9a1220-0a20-4139-ba5d-ec78a79d3195",
   "metadata": {},
   "source": [
    "# Input/Output\n",
    "\n",
    "We can expect datasets to be available from different storage sources:\n",
    "\n",
    "- Hard disks\n",
    "- HDFS\n",
    "- Databases\n",
    "- Others\n",
    "\n",
    "The `SparkSession` object facilitates the load of data from these sources under different formats (CSV, JSON, text, parquet, databases, etc.). We will show  examples for CSV, libSVM, and images.\n",
    "\n",
    "## CSV\n",
    "\n",
    "Let's assume the following dataset in a CSV format:\n",
    "\n",
    "```csv\n",
    "label,f1,f2,f3,f4\n",
    "0,0,\"one\",2.0,true\n",
    "1,4,\"five\",6.0,false\n",
    "```\n",
    "\n",
    "We instantiate a `SparkSession` object and load the dataset indicating that we have a header and the separation character."
   ]
  },
  {
   "cell_type": "code",
   "execution_count": 5,
   "id": "e3a77c25-16b0-4ff6-bb0b-e18e9226529f",
   "metadata": {},
   "outputs": [
    {
     "name": "stdout",
     "output_type": "stream",
     "text": [
      "+-----+---+----+---+-----+\n",
      "|label| f1|  f2| f3|   f4|\n",
      "+-----+---+----+---+-----+\n",
      "|    0|  0| one|2.0| true|\n",
      "|    1|  4|five|6.0|false|\n",
      "+-----+---+----+---+-----+\n",
      "\n"
     ]
    }
   ],
   "source": [
    "'''\n",
    "For this example we need the dataset.csv file to be available. \n",
    "\n",
    "Copy and paste the following lines:\n",
    "\n",
    "echo \"\\\n",
    "label,f1,f2,f3,f4\n",
    "0,0,\"one\",2.0,true\n",
    "1,4,\"five\",6.0,false\" > /tmp/dataset.csv\n",
    "\n",
    "'''\n",
    "\n",
    "from pyspark.sql import SparkSession\n",
    "\n",
    "# Get a session object for our current Spark master\n",
    "session = SparkSession.builder.appName(\"Example\").master(\"local\").getOrCreate()\n",
    "\n",
    "dataset = session.read.format('csv')\\\n",
    ".option('header', 'true')\\\n",
    ".option('sep', ',')\\\n",
    ".load('/tmp/dataset.csv')\n",
    "\n",
    "dataset.show()\n",
    "\n",
    "# we stop the session\n",
    "session.stop()\n"
   ]
  },
  {
   "cell_type": "markdown",
   "id": "aafd8271-4ec6-4f6b-ba7c-ad5a40d2c2c8",
   "metadata": {},
   "source": [
    "## libSVM\n",
    "\n",
    "[LibSVM](www.csie.ntu.edu.tw/~cjlin/libsvm/) is a popular format to represent numeric sparse data. \n",
    "\n",
    "The following dataset:\n",
    "\n",
    "```\n",
    "0 128:51  129:159\n",
    "1 130:253 131:159  132:50\n",
    "1 155:48  156:238\n",
    "\n",
    "```\n",
    "\n",
    "Where the first row `0 128:51 129:159` indicates an observation with label 0 and feature $128^{th}$ and $129^{th}$ equal to $51$ and $159$ respectively. We can load this dataset using the `SparkSession` object as we did for the `CSV` format."
   ]
  },
  {
   "cell_type": "code",
   "execution_count": 6,
   "id": "2fcc4624-f451-4ed8-a463-498899455827",
   "metadata": {
    "scrolled": true
   },
   "outputs": [
    {
     "name": "stdout",
     "output_type": "stream",
     "text": [
      "+-----+--------------------+\n",
      "|label|            features|\n",
      "+-----+--------------------+\n",
      "|  0.0|(157,[127,128],[5...|\n",
      "|  1.0|(157,[129,130,131...|\n",
      "|  1.0|(157,[154,155],[4...|\n",
      "+-----+--------------------+\n",
      "\n"
     ]
    }
   ],
   "source": [
    "'''\n",
    "For this example we need the dataset.libsvm file to be available. \n",
    "\n",
    "Copy and paste the following lines:\n",
    "\n",
    "echo \"\\\n",
    "0 128:51  129:159\n",
    "1 130:253 131:159  132:50\n",
    "1 155:48  156:238\" > /tmp/dataset.libsvm\n",
    "\n",
    "'''\n",
    "\n",
    "from pyspark.sql import SparkSession\n",
    "\n",
    "session = SparkSession.builder.appName(\"Example\").master(\"local\").getOrCreate()\n",
    "\n",
    "dataset = session.read.format('libsvm').option('numFeatures',157).load('/tmp/dataset.libsvm')\n",
    "\n",
    "dataset.show()\n",
    "                              \n",
    "# we stop the session\n",
    "session.stop()"
   ]
  },
  {
   "cell_type": "markdown",
   "id": "610ce25b-ff08-4b85-b872-2fc516680834",
   "metadata": {},
   "source": [
    "## Images\n",
    "\n",
    "LMlib can load images in variety of formats (jpeg, png, etc.). It also supports compressed formats. The resulting DataFrame has a column `image` containing information of the schema.\n",
    "\n",
    "More details in the [docs](https://spark.apache.org/docs/latest/ml-datasource.html#image-data-source)"
   ]
  },
  {
   "cell_type": "code",
   "execution_count": 7,
   "id": "9b9686d8-15da-4d59-ae1f-e823e30bd508",
   "metadata": {},
   "outputs": [
    {
     "data": {
      "image/png": "[encoded data removed]",
      "text/plain": [
       "<IPython.core.display.Image object>"
      ]
     },
     "execution_count": 7,
     "metadata": {},
     "output_type": "execute_result"
    }
   ],
   "source": [
    "# We download a cat image for later\n",
    "\n",
    "import urllib3\n",
    "import tempfile\n",
    "from IPython.display import Image\n",
    "import sys\n",
    "\n",
    "url='https://unsplash.com/photos/ECfPmkOVZPA/download?ixid=M3wxMjA3fDB8MXxhbGx8fHx8fHx8fHwxNzA2MDA3NDAyfA&force=true&w=640'\n",
    "cat_image = tempfile.gettempdir() + '/kitty.png'\n",
    "\n",
    "http = urllib3.PoolManager()\n",
    "r = http.request('GET', url, preload_content=False)\n",
    "    \n",
    "with open(cat_image, 'wb') as f:\n",
    "    while True:\n",
    "        data = r.read()\n",
    "        if not data:\n",
    "            break\n",
    "        f.write(data)\n",
    "r.release_conn()\n",
    "\n",
    "Image(filename=cat_image)     \n"
   ]
  },
  {
   "cell_type": "code",
   "execution_count": 8,
   "id": "3364e28d-8703-44ff-8eb4-ed6e393ffd2b",
   "metadata": {},
   "outputs": [
    {
     "name": "stdout",
     "output_type": "stream",
     "text": [
      "+---------------------+-----+------+---------+----+\n",
      "|origin               |width|height|nChannels|mode|\n",
      "+---------------------+-----+------+---------+----+\n",
      "|file:///tmp/kitty.png|640  |960   |3        |16  |\n",
      "+---------------------+-----+------+---------+----+\n",
      "\n"
     ]
    }
   ],
   "source": [
    "from pyspark.sql import SparkSession\n",
    "\n",
    "session = SparkSession.builder.appName('Example').master('local').getOrCreate()\n",
    "df = session.read.format('image').option('dropInvalid', True).load(cat_image)\n",
    "\n",
    "df.select('image.origin', 'image.width', 'image.height', 'image.nChannels', 'image.mode').show(truncate=False)\n",
    "\n",
    "# The image data is stored in the image.data column, one image per row.\n",
    "img_data = df.select('image.data').collect()[0]\n",
    "\n",
    "# Do something with img_data...\n",
    "\n",
    "session.stop()"
   ]
  },
  {
   "cell_type": "markdown",
   "id": "a41bb05a-ea6c-4cd2-8f63-a9ef48153a12",
   "metadata": {},
   "source": [
    "# Features\n",
    "\n",
    "One of the main tasks for any data engineer is data preparation. For two reasons:\n",
    "\n",
    "1. Raw data is not ready to be consumed by algorithms\n",
    "2. Preprocessing data is required to improve algorithms performance\n",
    "\n",
    "Incoming data has to be processed in different steps until we reach a successful representation to be consumed by algorithms. MLlib offers a collection of feature-related operations. We can distinguish:\n",
    "\n",
    "- Extraction: extract features from raw data\n",
    "- Transformation: modifying/converting features\n",
    "- Selection: select features based on a certain criteria\n",
    "- [Locality Sensitive Hashing](https://en.wikipedia.org/wiki/Locality-sensitive_hashing) (LSH): algorithms combining feature transformation with other algorithms\n",
    "\n",
    "In general feature processing in MLlib follows these steps:\n",
    "\n",
    "1. **Instantiate** the operator indicating the name of the input and output columns and additional params.\n",
    "2. **Fit the model** invoking the `.fit(...)` method to train a model. Some operators may not require this step if they are not associated with a model.\n",
    "3. **Transform** the input data using the model\n",
    "\n",
    "No need to mention that these steps, the input params, and the input format vary from operator to operator.\n",
    "\n",
    "The following sections present succint examples of different operators.\n",
    "\n"
   ]
  },
  {
   "cell_type": "markdown",
   "id": "61a61c4f-ae02-4085-96e1-59ba1afffc9f",
   "metadata": {},
   "source": [
    "## Normal standardization\n",
    "\n",
    "Scale a feature to obtain a normal distribution with mean 0 and unit-variance.\n",
    "\n",
    "$x'_i = \\dfrac{x_i-\\mu}{\\sigma}$\n",
    "\n",
    "Where\n",
    "- $x_i$ is the feature value\n",
    "- $\\mu$ is the mean of the distribution and $\\sigma$ is the standard deviation\n",
    "- $x'_i$ becomes the standardized feature"
   ]
  },
  {
   "cell_type": "code",
   "execution_count": 9,
   "id": "46cb41bc-dd5e-47ae-b75c-838db904d3de",
   "metadata": {},
   "outputs": [
    {
     "name": "stderr",
     "output_type": "stream",
     "text": [
      "\n",
      "[Stage 0:>                                                          (0 + 1) / 1]\r"
     ]
    },
    {
     "name": "stdout",
     "output_type": "stream",
     "text": [
      "+---+--------------+\n",
      "| id|      features|\n",
      "+---+--------------+\n",
      "|  0|[1.0,0.1,-1.0]|\n",
      "|  1| [2.0,1.1,1.0]|\n",
      "|  2|[3.0,10.1,3.0]|\n",
      "+---+--------------+\n",
      "\n"
     ]
    },
    {
     "name": "stderr",
     "output_type": "stream",
     "text": [
      "\n",
      "                                                                                \r"
     ]
    }
   ],
   "source": [
    "from pyspark.sql import SparkSession\n",
    "from pyspark.ml.linalg import Vectors\n",
    "from pyspark.ml.feature import StandardScaler\n",
    "\n",
    "session = SparkSession.builder.appName('Example').master('local').getOrCreate()\n",
    "\n",
    "values = [[0, Vectors .dense ([1.0,0.1, -1.0])],\n",
    "          [1, Vectors .dense ([2.0 ,1.1 ,1.0])] ,\n",
    "          [2, Vectors .dense ([3.0 ,10.1 ,3.0])]]\n",
    "dataset = session.createDataFrame(values, ['id', 'features'])\n",
    "dataset.show()"
   ]
  },
  {
   "cell_type": "code",
   "execution_count": 10,
   "id": "4eb9ec1c-084d-475f-afd4-3318b59e3ade",
   "metadata": {
    "scrolled": true
   },
   "outputs": [
    {
     "name": "stdout",
     "output_type": "stream",
     "text": [
      "Mean is: [2.0,3.7666666666666666,1.0] with sd: [1.0,5.507570547286102,2.0]\n",
      "+---+--------------+--------------------+\n",
      "| id|      features|        standardized|\n",
      "+---+--------------+--------------------+\n",
      "|  0|[1.0,0.1,-1.0]|[-1.0,-0.66575028...|\n",
      "|  1| [2.0,1.1,1.0]|[0.0,-0.484182026...|\n",
      "|  2|[3.0,10.1,3.0]|[1.0,1.1499323120...|\n",
      "+---+--------------+--------------------+\n",
      "\n"
     ]
    }
   ],
   "source": [
    "# Fit\n",
    "scaler = StandardScaler(inputCol = 'features', outputCol='standardized', withMean=True, withStd=True)\n",
    "scalerModel = scaler.fit(dataset)\n",
    "\n",
    "# Print some statistics\n",
    "print(\"Mean is: %s with sd: %s\" % (scalerModel.mean, scalerModel.std))\n",
    "\n",
    "# Transform\n",
    "standardized = scalerModel.transform(dataset)\n",
    "standardized.show()"
   ]
  },
  {
   "cell_type": "markdown",
   "id": "89c8e6e3-589a-4ae6-9c6e-34942d9d5401",
   "metadata": {},
   "source": [
    "We can check if the transformed data has the desired distribution using a `Summarizer` ([docs here](https://spark.apache.org/docs/3.5.0/api/python/reference/api/pyspark.ml.stat.Summarizer.html?highlight=mean#pyspark.ml.stat.Summarizer)). For every feature we have mean set to 0 and standard deviation equal to 1. "
   ]
  },
  {
   "cell_type": "code",
   "execution_count": 11,
   "id": "dc16f852-da01-41e7-9f47-99c0fcc5db5c",
   "metadata": {
    "scrolled": true
   },
   "outputs": [
    {
     "name": "stdout",
     "output_type": "stream",
     "text": [
      "+---------------------------------------------+\n",
      "|aggregate_metrics(standardized, 1.0)         |\n",
      "+---------------------------------------------+\n",
      "|{[0.0,0.0,0.0], [1.0,0.9999999999999999,1.0]}|\n",
      "+---------------------------------------------+\n",
      "\n"
     ]
    }
   ],
   "source": [
    "# Let's see what are the mean and the std now\n",
    "from pyspark.ml.stat import Summarizer\n",
    "summarizer = Summarizer.metrics(\"mean\", \"std\")\n",
    "standardized.select(summarizer.summary(standardized.standardized)).show(truncate=False)\n",
    "\n",
    "session.stop()"
   ]
  },
  {
   "cell_type": "markdown",
   "id": "b2d2f70d-9d04-4e89-8851-3bbe8367c115",
   "metadata": {},
   "source": [
    "## Elementwise product\n",
    "\n",
    "This transformer multiplies each input vector by a provided vector, using element-wise multiplication. This operation scales each column by a given scalar ([Hadamard product](https://en.wikipedia.org/wiki/Hadamard_product_%28matrices%29)). For example:\n",
    "\n",
    "$$\n",
    "\\begin{bmatrix}\n",
    "    2 & 3 & 1 \\\\\n",
    "    0 & 8 & -2\n",
    "  \\end{bmatrix} \\circ \\begin{bmatrix}\n",
    "    3 & 1 & 4\n",
    "  \\end{bmatrix} = \\begin{bmatrix}\n",
    "    2 \\times 3 & 3 \\times 1 & 1 \\times 4 \\\\\n",
    "    0 \\times 3 & 8 \\times 1 & -2 \\times 4\n",
    "  \\end{bmatrix} = \\begin{bmatrix}\n",
    "    6 & 3 & 4 \\\\\n",
    "    0 & 8 & -8\n",
    "  \\end{bmatrix}\n",
    "$$"
   ]
  },
  {
   "cell_type": "code",
   "execution_count": 12,
   "id": "a2de2924-9b0a-428b-ae8d-52e32ad26939",
   "metadata": {},
   "outputs": [
    {
     "name": "stdout",
     "output_type": "stream",
     "text": [
      "b = [3.0,1.0,4.0]\n"
     ]
    },
    {
     "name": "stderr",
     "output_type": "stream",
     "text": [
      "                                                                                \r"
     ]
    },
    {
     "name": "stdout",
     "output_type": "stream",
     "text": [
      "+--------------+\n",
      "|      features|\n",
      "+--------------+\n",
      "| [2.0,3.0,1.0]|\n",
      "|[0.0,8.0,-2.0]|\n",
      "+--------------+\n",
      "\n",
      "+--------------+--------------+\n",
      "|      features|       product|\n",
      "+--------------+--------------+\n",
      "| [2.0,3.0,1.0]| [6.0,3.0,4.0]|\n",
      "|[0.0,8.0,-2.0]|[0.0,8.0,-8.0]|\n",
      "+--------------+--------------+\n",
      "\n"
     ]
    }
   ],
   "source": [
    "from pyspark.sql import SparkSession\n",
    "from pyspark.ml.linalg import Vectors\n",
    "from pyspark.ml.feature import ElementwiseProduct\n",
    "\n",
    "session = SparkSession.builder.appName('Example').master('local').getOrCreate()\n",
    "\n",
    "a = [[Vectors.dense ([2,3,1])],\n",
    "     [Vectors.dense ([0,8,-2])]]\n",
    "\n",
    "b = Vectors.dense ([3,1,4])\n",
    "print('b =',b)\n",
    "\n",
    "df_a = session.createDataFrame(a, ['features'])\n",
    "df_a.show()\n",
    "\n",
    "ewp = ElementwiseProduct(inputCol='features', outputCol='product', scalingVec=b)\n",
    "\n",
    "a_b = ewp.transform(df_a)\n",
    "a_b.show()\n"
   ]
  },
  {
   "cell_type": "markdown",
   "id": "9004b2e2-f7d5-47fe-a9bf-6a8b6020b7fe",
   "metadata": {},
   "source": [
    "## Principal Component Analysis\n",
    "\n",
    "When dealing with many features we can come across the **curse of dimensionality**.\n",
    "- More than three variables are difficult to plot\n",
    "- Performance issues for a large number of features\n",
    "- Features that only add \"noise\" to the problem\n",
    "- Algorithms may find difficult to converge to a solution\n",
    "\n",
    "Principal Component Analysis (PCA) is a dimensionality reduction technique that aims to find the components that maximize the variance. These are the steps to follow:\n",
    "\n",
    "- Standardize the data\n",
    "- Compute eigenvectors and eigenvalues of the covariance matrix\n",
    "- Sort eigenvalues and pick the $d$ larges values\n",
    "- Construct matrix $\\mathbf{W}$ using the $d$ corresponding eigenvectors\n",
    "- Transform dataset $\\mathbf{X}$ multiplying it by $\\mathbf{W}$\n",
    "\n",
    "The covariance matrix is a symmetric matrix with the covariance between variables. It looks like this\n",
    "\n",
    "$$\n",
    "\\mathrm{cov}(X_i, X_j) = \\mathrm{E}\\begin{bmatrix}\n",
    "(X_i - \\mu_i)(X_j - \\mu_j)\n",
    "\\end{bmatrix} = \\mathrm{E}\\begin{bmatrix}X_iX_j\n",
    "\\end{bmatrix} - \\mu_i\\mu_j\n",
    "$$\n",
    "\n",
    "$$\n",
    "\\mathrm{cov}(\\mathbf{X},\\mathbf{Y})= \\begin{bmatrix}\n",
    " \\mathrm{cov}(X_1,Y_1) & \\mathrm{cov}(X_1,Y_2) & \\cdots & \\mathrm{cov}(X_1,Y_n) \\\\ \\\\\n",
    " \\mathrm{cov}(X_2,Y_1) & \\mathrm{cov}(X_2,Y_2) & \\cdots & \\mathrm{cov}(X_2,Y_n) \\\\ \\\\\n",
    " \\vdots & \\vdots & \\ddots & \\vdots \\\\ \\\\\n",
    "\\mathrm{cov}(X_n,Y_1) & \\mathrm{cov}(X_n,Y_2) & \\cdots & \\mathrm{cov}(X_n,Y_n) \\\\ \\\\\n",
    "\\end{bmatrix}\n",
    "$$\n",
    "\n",
    "In MLlib there is a PCA transformer that implements all these steps. By applying the PCA we can obtain a reduced version of the original that maintains most of the relevant information brought by the features. \n",
    "\n",
    "In the example below, we compute the PCA for a dataset of 5 features we wish to convert in a new 3 features dataset."
   ]
  },
  {
   "cell_type": "code",
   "execution_count": 13,
   "id": "fe73baaf-52cf-41ce-81c2-5701deb135a1",
   "metadata": {},
   "outputs": [
    {
     "name": "stdout",
     "output_type": "stream",
     "text": [
      "+--------------------+\n",
      "|            features|\n",
      "+--------------------+\n",
      "|[1.0,0.0,3.0,0.0,...|\n",
      "|[2.0,0.0,3.0,4.0,...|\n",
      "|[4.0,0.0,0.0,6.0,...|\n",
      "+--------------------+\n",
      "\n"
     ]
    }
   ],
   "source": [
    "from pyspark.sql import SparkSession\n",
    "from pyspark.ml.linalg import Vectors\n",
    "from pyspark.ml.feature import PCA\n",
    "\n",
    "session = SparkSession.builder.appName(\"Example\").master(\"local\").getOrCreate()\n",
    "\n",
    "data = [[Vectors.dense ([1.0 , 0.0, 3.0, 0.0, 7.0])],\n",
    "        [Vectors .dense ([2.0 , 0.0, 3.0, 4.0, 5.0])],\n",
    "        [Vectors .dense ([4.0 , 0.0, 0.0, 6.0, 7.0])]]\n",
    "\n",
    "dataset = session.createDataFrame(data, ['features'])\n",
    "dataset.show()"
   ]
  },
  {
   "cell_type": "code",
   "execution_count": 14,
   "id": "0359c1ac-3b60-4ed1-825b-696975d7fdfa",
   "metadata": {},
   "outputs": [
    {
     "name": "stderr",
     "output_type": "stream",
     "text": [
      "24/01/25 11:45:21 WARN InstanceBuilder: Failed to load implementation from:dev.ludovic.netlib.blas.VectorBLAS\n",
      "                                                                                \r"
     ]
    },
    {
     "name": "stdout",
     "output_type": "stream",
     "text": [
      "The variance for every new feature [0.84375,0.15625000000000008,4.509331675237028e-17]\n"
     ]
    }
   ],
   "source": [
    "# Fit PCA\n",
    "pca = PCA(inputCol='features', outputCol='pcaFeatures', k=3)\n",
    "pcaModel = pca.fit(dataset)\n",
    "\n",
    "print(\"The variance for every new feature %s\" % pcaModel.explainedVariance)"
   ]
  },
  {
   "cell_type": "code",
   "execution_count": 15,
   "id": "f8016057-9381-46ec-b210-528cd60332e8",
   "metadata": {
    "scrolled": true
   },
   "outputs": [
    {
     "name": "stdout",
     "output_type": "stream",
     "text": [
      "+---------------------+---------------------------------------------------------+\n",
      "|features             |pcaFeatures                                              |\n",
      "+---------------------+---------------------------------------------------------+\n",
      "|[1.0,0.0,3.0,0.0,7.0]|[0.8164965809277265,3.65148371670111,-2.5144734900027204]|\n",
      "|[2.0,0.0,3.0,4.0,5.0]|[-2.857738033247042,0.9128709291752779,-2.51447349000272]|\n",
      "|[4.0,0.0,0.0,6.0,7.0]|[-6.53197264742181,3.6514837167011094,-2.514473490002719]|\n",
      "+---------------------+---------------------------------------------------------+\n",
      "\n"
     ]
    }
   ],
   "source": [
    "# Transform the original dataset\n",
    "pcaDataset = pcaModel.transform(dataset)\n",
    "pcaDataset.show(truncate=False)"
   ]
  },
  {
   "cell_type": "markdown",
   "id": "d8346fe3-2d6d-4f16-9519-56d5393e7580",
   "metadata": {},
   "source": [
    "Observe that the transformed dataset does no longer correspond to any real observation. Any model predictions generated using this transformed data for training, has to be reconstructed. Otherwise, the output will no make any sense."
   ]
  },
  {
   "cell_type": "markdown",
   "id": "e654ad5e-89eb-45f5-b011-8e13d794e14d",
   "metadata": {},
   "source": [
    "## StringIndexer\n",
    "\n",
    "This is a label indexer that assigns a label to every string in a column. If the value is numeric, first it is casted to string and then indexed."
   ]
  },
  {
   "cell_type": "code",
   "execution_count": 16,
   "id": "b19364d1-08a2-4ffd-a08b-75e68b520e01",
   "metadata": {},
   "outputs": [
    {
     "name": "stdout",
     "output_type": "stream",
     "text": [
      "+-------+\n",
      "|feature|\n",
      "+-------+\n",
      "|   blue|\n",
      "|    red|\n",
      "|    red|\n",
      "|  white|\n",
      "| yellow|\n",
      "|    red|\n",
      "+-------+\n",
      "\n",
      "Found labels:  ['red', 'blue', 'white', 'yellow']\n",
      "+-------+-----+\n",
      "|feature|index|\n",
      "+-------+-----+\n",
      "|   blue|  1.0|\n",
      "|    red|  0.0|\n",
      "|    red|  0.0|\n",
      "|  white|  2.0|\n",
      "| yellow|  3.0|\n",
      "|    red|  0.0|\n",
      "+-------+-----+\n",
      "\n"
     ]
    }
   ],
   "source": [
    "from pyspark.sql import SparkSession\n",
    "from pyspark.ml.linalg import Vectors\n",
    "from pyspark.ml.feature import StringIndexer\n",
    "\n",
    "session = SparkSession.builder.appName('Example').master('local').getOrCreate()\n",
    "\n",
    "data = session.createDataFrame([['blue'], ['red'],\n",
    "                                ['red'], ['white'],\n",
    "                                ['yellow'], ['red']], ['feature'])\n",
    "data.show()\n",
    "\n",
    "si = StringIndexer(inputCol='feature', outputCol='index', )\n",
    "model = si.fit(data)\n",
    "print('Found labels: ', model.labels)\n",
    "model.transform(data).show()\n",
    "\n",
    "session.stop()"
   ]
  },
  {
   "cell_type": "markdown",
   "id": "13c7ea1b-f403-4b70-9a9c-7ae82587dd00",
   "metadata": {},
   "source": [
    "## One hot encoder\n",
    "\n",
    "This encoder maps a column of indices into a single binary vector. If we have 4 labels, for index 3 we will have $[0,0,0,1,0]$. The output is a `SparseVector`.\n",
    "\n",
    "Observe that the param `dropLast` is `True` by default ignoring the label with index $n-1$. "
   ]
  },
  {
   "cell_type": "code",
   "execution_count": 17,
   "id": "c4d6b0a7-305d-4038-b386-e9101e3b9d01",
   "metadata": {
    "scrolled": true
   },
   "outputs": [
    {
     "name": "stderr",
     "output_type": "stream",
     "text": [
      "\n",
      "[Stage 0:>                                                          (0 + 1) / 1]\n",
      "\n",
      "                                                                                \r"
     ]
    },
    {
     "name": "stdout",
     "output_type": "stream",
     "text": [
      "+-------+\n",
      "|feature|\n",
      "+-------+\n",
      "|   blue|\n",
      "|    red|\n",
      "|    red|\n",
      "|  white|\n",
      "| yellow|\n",
      "|    red|\n",
      "+-------+\n",
      "\n",
      "+-------+-------+\n",
      "|feature|indexed|\n",
      "+-------+-------+\n",
      "|   blue|    1.0|\n",
      "|    red|    0.0|\n",
      "|    red|    0.0|\n",
      "|  white|    2.0|\n",
      "| yellow|    3.0|\n",
      "|    red|    0.0|\n",
      "+-------+-------+\n",
      "\n",
      "+-------+-------+-------------+\n",
      "|feature|indexed|      encoded|\n",
      "+-------+-------+-------------+\n",
      "|   blue|    1.0|(4,[1],[1.0])|\n",
      "|    red|    0.0|(4,[0],[1.0])|\n",
      "|    red|    0.0|(4,[0],[1.0])|\n",
      "|  white|    2.0|(4,[2],[1.0])|\n",
      "| yellow|    3.0|(4,[3],[1.0])|\n",
      "|    red|    0.0|(4,[0],[1.0])|\n",
      "+-------+-------+-------------+\n",
      "\n"
     ]
    }
   ],
   "source": [
    "from pyspark.sql import SparkSession\n",
    "from pyspark.ml.linalg import Vectors\n",
    "from pyspark.ml.feature import StringIndexer, OneHotEncoder\n",
    "\n",
    "session = SparkSession.builder.appName('Example').master('local').getOrCreate()\n",
    "\n",
    "data = session.createDataFrame([['blue'], ['red'],\n",
    "                                ['red'], ['white'],\n",
    "                                ['yellow'], ['red']], ['feature'])\n",
    "data.show()\n",
    "\n",
    "# First we need an input column with indices instead of strings.\n",
    "si = StringIndexer(inputCol='feature', outputCol='indexed')\n",
    "si_model = si.fit(data)\n",
    "indexed = si_model.transform(data)\n",
    "indexed.show()\n",
    "\n",
    "# If we let dropLast=True, the index for yellow will be dropped\n",
    "ohe = OneHotEncoder(inputCol='indexed', outputCol='encoded', dropLast=False)\n",
    "ohe_model = ohe.fit(indexed)\n",
    "ohe_transformed = ohe_model.transform(indexed)\n",
    "\n",
    "'''\n",
    "You can check how setting dropLast=True, the 4th row will be\n",
    "\n",
    "+-------+-------+-------------+\n",
    "|feature|indexed|      encoded|\n",
    "+-------+-------+-------------+\n",
    "| yellow|    3.0|(3,[],[])    |\n",
    "+-------+-------+-------------+\n",
    "'''\n",
    "ohe_transformed.show()\n"
   ]
  },
  {
   "cell_type": "markdown",
   "id": "e45bd730-9c4d-433e-91f7-69b02dcaf3b6",
   "metadata": {},
   "source": [
    "## Tokenization\n",
    "\n",
    "Tokenization is the process of splitting a document into a vector of differentiated tokens. The sentence `\"The quick brown fox jumps over the lazy dog\"` will be split into tokens like in `[\"The\", \"quick\", \"brown\", \"fox\", \"jumps\", \"over\", \"the\", \"lazy\", \"dog\"]`. Different approaches may split the document using white spaces, commas, regular expressions, or any other character.\n",
    "\n",
    "In MLlib there is a Tokenizer transformer for this purpose."
   ]
  },
  {
   "cell_type": "code",
   "execution_count": 18,
   "id": "6b546965-3789-448c-976a-b6037471d436",
   "metadata": {
    "scrolled": true
   },
   "outputs": [
    {
     "name": "stdout",
     "output_type": "stream",
     "text": [
      "+---+---------------------------------------+---------------------------------------------+\n",
      "|id |sentence                               |words                                        |\n",
      "+---+---------------------------------------+---------------------------------------------+\n",
      "|0  |Hi I heard about Spark                 |[hi, i, heard, about, spark]                 |\n",
      "|1  |I wish Java could use case classes     |[i, wish, java, could, use, case, classes]   |\n",
      "|2  |Logistic, regression, models, are, neat|[logistic,, regression,, models,, are,, neat]|\n",
      "+---+---------------------------------------+---------------------------------------------+\n",
      "\n"
     ]
    }
   ],
   "source": [
    "from pyspark .sql import SparkSession\n",
    "from pyspark .ml. feature import Tokenizer\n",
    "\n",
    "session = SparkSession.builder.appName(\"Example\").master(\"local\").getOrCreate()\n",
    "sentenceDataFrame = session.createDataFrame ([(0, \"Hi I heard about Spark\"),\n",
    "                                            (1, \"I wish Java could use case classes\"),\n",
    "                                            (2, \"Logistic, regression, models, are, neat\")], ['id', 'sentence'])\n",
    "\n",
    "tokenizer = Tokenizer(inputCol='sentence', outputCol='words')\n",
    "tokenizer.transform(sentenceDataFrame).show(truncate=False)"
   ]
  },
  {
   "cell_type": "markdown",
   "id": "e5820839-7e33-433c-a9b7-6f9ae0ef9da6",
   "metadata": {},
   "source": [
    "## Stop words\n",
    "\n",
    "Natural language is redundant and not every term provides the same amount of information. By stop words we refer to the most common words in a given language. These words are so common that result into non-relevant chunks of information. These words are removed previously to any analysis. There is no a single list of stop words and this changes with every language. \n",
    "\n",
    "MLlib implements the [`StopWordsRemover`](https://spark.apache.org/docs/latest/api/python/reference/api/pyspark.ml.feature.StopWordsRemover.html#stopwordsremover)  that filters out stop words using a dictionary."
   ]
  },
  {
   "cell_type": "code",
   "execution_count": 19,
   "id": "ff192bc6-42de-43a5-a238-095a1775e3d5",
   "metadata": {},
   "outputs": [
    {
     "name": "stdout",
     "output_type": "stream",
     "text": [
      "+---+------------------------------+\n",
      "|id |raw                           |\n",
      "+---+------------------------------+\n",
      "|0  |[I, saw, the, red,  balloon ] |\n",
      "|1  |[Mary, had, a,  little , lamb]|\n",
      "+---+------------------------------+\n",
      "\n",
      "+---+------------------------------+----------------------+\n",
      "|id |raw                           |filtered              |\n",
      "+---+------------------------------+----------------------+\n",
      "|0  |[I, saw, the, red,  balloon ] |[saw, red,  balloon ] |\n",
      "|1  |[Mary, had, a,  little , lamb]|[Mary,  little , lamb]|\n",
      "+---+------------------------------+----------------------+\n",
      "\n"
     ]
    }
   ],
   "source": [
    "from pyspark .sql import SparkSession\n",
    "from pyspark .ml. feature import StopWordsRemover\n",
    "\n",
    "session = SparkSession.builder.appName(\"Example\").master(\"local\").getOrCreate()\n",
    "\n",
    "text = session.createDataFrame ([(0, [\"I\", \"saw\", \"the\", \"red\", \" balloon \"]),\n",
    "                                (1, [\"Mary\", \"had\", \"a\", \" little \", \"lamb\"])\n",
    "                                ], [\"id\", \"raw\"])\n",
    "text.show(truncate=False)\n",
    "\n",
    "remover = StopWordsRemover(inputCol='raw', outputCol='filtered')\n",
    "remover.transform(text).show(truncate=False)"
   ]
  },
  {
   "cell_type": "markdown",
   "id": "b565f1ed-cc5c-491a-bf25-7896b96c41d6",
   "metadata": {},
   "source": [
    "## Count Vectorizer\n",
    "\n",
    "This estimator counts the number of occurrences of items in a vocabulary represented in a sparse vector. This is particularly useful to represent a document in terms of the frequency of its elements and it is normally used in probabilistic models."
   ]
  },
  {
   "cell_type": "code",
   "execution_count": 20,
   "id": "b047fe09-461d-4f68-bfc0-ecbb83ef0318",
   "metadata": {},
   "outputs": [
    {
     "name": "stdout",
     "output_type": "stream",
     "text": [
      "+---+-------------------+\n",
      "| id|                raw|\n",
      "+---+-------------------+\n",
      "|  0|[yellow, red, blue]|\n",
      "|  1|              [red]|\n",
      "|  2|[blue, white, blue]|\n",
      "+---+-------------------+\n",
      "\n",
      "The vocabulary:  ['blue', 'red', 'white', 'yellow']\n",
      "+---+-------------------+-------------------------+\n",
      "|id |raw                |frequencies              |\n",
      "+---+-------------------+-------------------------+\n",
      "|0  |[yellow, red, blue]|(4,[0,1,3],[1.0,1.0,1.0])|\n",
      "|1  |[red]              |(4,[1],[1.0])            |\n",
      "|2  |[blue, white, blue]|(4,[0,2],[2.0,1.0])      |\n",
      "+---+-------------------+-------------------------+\n",
      "\n"
     ]
    }
   ],
   "source": [
    "from pyspark .sql import SparkSession\n",
    "from pyspark.ml.feature import CountVectorizer\n",
    "\n",
    "session = SparkSession.builder.appName(\"Example\").master(\"local\").getOrCreate()\n",
    "\n",
    "text = session.createDataFrame ([(0,'yellow red blue'.split()),\n",
    "                                (1, 'red'.split()),\n",
    "                                (2, 'blue white blue'.split()),\n",
    "                                ], [\"id\", \"raw\"])\n",
    "\n",
    "text.show()\n",
    "\n",
    "cv = CountVectorizer(inputCol='raw', outputCol='frequencies')\n",
    "cv_model = cv.fit(text)\n",
    "print('The vocabulary: ',cv_model.vocabulary)\n",
    "frequencies = cv_model.transform(text)\n",
    "frequencies.show(truncate=False)"
   ]
  },
  {
   "cell_type": "markdown",
   "id": "a86b3579-a951-447e-99bc-d6d0fd7d51a8",
   "metadata": {},
   "source": [
    "## N-grams\n",
    "\n",
    "N-grams are a common input for many algorithms to understand the probability of $n$ words to occur together. The `NGram` transformer outputs a collection of these N-grams."
   ]
  },
  {
   "cell_type": "code",
   "execution_count": 22,
   "id": "4aa4eefe-377d-4f01-8f77-16ca7e6b2721",
   "metadata": {
    "scrolled": true
   },
   "outputs": [
    {
     "name": "stdout",
     "output_type": "stream",
     "text": [
      "+-----+-----------------------------------+------------------------------------------+\n",
      "|label|sentence                           |words                                     |\n",
      "+-----+-----------------------------------+------------------------------------------+\n",
      "|0    |Hi I heard about Spark             |[hi, i, heard, about, spark]              |\n",
      "|0    |I wish Java could use case classes |[i, wish, java, could, use, case, classes]|\n",
      "|0    |Logistic regression models are neat|[logistic, regression, models, are, neat] |\n",
      "+-----+-----------------------------------+------------------------------------------+\n",
      "\n",
      "+-----+-----------------------------------+------------------------------------------+------------------------------------------------------------------+\n",
      "|label|sentence                           |words                                     |ngrams                                                            |\n",
      "+-----+-----------------------------------+------------------------------------------+------------------------------------------------------------------+\n",
      "|0    |Hi I heard about Spark             |[hi, i, heard, about, spark]              |[hi i, i heard, heard about, about spark]                         |\n",
      "|0    |I wish Java could use case classes |[i, wish, java, could, use, case, classes]|[i wish, wish java, java could, could use, use case, case classes]|\n",
      "|0    |Logistic regression models are neat|[logistic, regression, models, are, neat] |[logistic regression, regression models, models are, are neat]    |\n",
      "+-----+-----------------------------------+------------------------------------------+------------------------------------------------------------------+\n",
      "\n"
     ]
    }
   ],
   "source": [
    "from pyspark .sql import SparkSession\n",
    "from pyspark.ml.feature import IDF, Tokenizer, NGram\n",
    "\n",
    "session = SparkSession.builder.appName(\"Example\").master(\"local\").getOrCreate()\n",
    "\n",
    "\n",
    "text = session.createDataFrame ([(0, \"Hi I heard about Spark\"),\n",
    "                                (0, \"I wish Java could use case classes \"),\n",
    "                                (0, \"Logistic regression models are neat\")\n",
    "                                ], [\"label\", \"sentence\"])\n",
    "\n",
    "# First we tokenize our dataset\n",
    "tokenizer = Tokenizer(inputCol ='sentence', outputCol ='words')\n",
    "words = tokenizer.transform(text)\n",
    "words.show(truncate=False)\n",
    "\n",
    "# Compute 2-grams\n",
    "ngram = NGram(inputCol='words', outputCol='ngrams', n=2)\n",
    "ngrams = ngram.transform(words)\n",
    "ngrams.show(truncate=False)"
   ]
  },
  {
   "cell_type": "markdown",
   "id": "c1d80441-e3ee-4a05-8133-809171fa8e9f",
   "metadata": {},
   "source": [
    "## TF-IDF\n",
    "\n",
    "Computing the number of occurrences of a term in a document or a collection of documents we can weight its relevance ([here](http://en.wikipedia.org/wiki/Tf%E2%80%93idf).\n",
    "\n",
    "- **Term-frequency (tf)**: the ratio of occurrences of a term in a document among the total\n",
    "\n",
    "$$\n",
    "tf(t,d) = \\dfrac{f_{t,d}}{\\sum_{t' \\in d} f_{t',d}}\n",
    "$$\n",
    "\n",
    "\n",
    "- **Inverse document frequency (idf)**: measure of how much information the term provides\n",
    "\n",
    "$$\n",
    "idf(t,d) = \\log \\dfrac{|D|}{|d \\in D : t \\in d |} \n",
    "$$\n",
    "\n",
    "Let's assume a corpus of documents $D$ with two documents $d_1$ and $d_2$. With the terms and their frequencies shown below:\n",
    "\n",
    "Document $d_1$\n",
    "\n",
    "|term|frequency|\n",
    "|----|---------|\n",
    "|this|1|\n",
    "|is|1|\n",
    "|a|2|\n",
    "|sample|1|\n",
    "\n",
    "\n",
    "Document $d_2$\n",
    "\n",
    "|term|frequency|\n",
    "|----|---------|\n",
    "|this|1|\n",
    "|is|1|\n",
    "|another|2|\n",
    "|sample|3|\n",
    "\n",
    "\n",
    "If we want to understand the relevance of *this* in $d_1$ we can compute the tf and idf.\n",
    "\n",
    "$$tf(this,d_1)=\\dfrac{1}{5}$$\n",
    "\n",
    "The word *this* appears only one in $d_1$ from the total of $5$ terms (sum of all the frequencies).\n",
    "\n",
    "$$idf(this, D) = log\\dfrac{2}{2}=0$$\n",
    "\n",
    "With the idf we can get how relevant is *this* in the corpus $D$. It appears in both documents, therefore it does not bring too much information.\n",
    "\n",
    "If we compute the same for *another* we can see the word is more relevant as it appears with a higher frequency but not in all the documents of the corpus $D$.\n",
    "\n",
    "$$tf(another,d_2)=\\dfrac{2}{7}$$\n",
    "\n",
    "$$idf(another, D) = log\\dfrac{2}{1}=0.69$$\n",
    "\n",
    "We can combine both metrics using the **tfidf** to filter out common terms and highlight relevant terms:\n",
    "\n",
    "$$\n",
    "\\mathbf{tfidf}(t,d,D)=\\mathbf{tf}(t,d) \\cdot\\mathbf{idf}(t,D)\n",
    "$$\n",
    "\n",
    "With **tfidf** we can weight how relevant is a term inside a document considering how frequently it is found. For the previous example:\n",
    "\n",
    "$$\n",
    "\\mathbf{tfidf}(\\text{this},d1,D)=\\dfrac{1}{5} \\cdot 0\n",
    "$$\n",
    "\n",
    "$$\n",
    "\\mathbf{tfidf}(\\text{this},d1,D)=\\dfrac{1}{5} \\cdot 0\n",
    "$$\n",
    "\n",
    "In a practical scenario we will use vectorized versions. For a vocabulary {a,b,c} and three documents:\n",
    "\n",
    "|Input|TF-vector|\n",
    "|-----|---------|\n",
    "|{a,b,c} | {1,1,1} |\n",
    "|{a,b,c,c,a} | {2,2,1}|\n",
    "|{a,a,a,c,a} | {4,0,1}|\n",
    "\n",
    "Usually the vocabulary is trimmed by discarded terms with a small idf to avoid non-relevant terms. This can be done using the params `mindf` and `mintf` from the `CountVectorizer` transformer. Take a look at the [Bag of words](#Bag-of-words) section. \n",
    "\n",
    "The following example computes the idf of a corpus using the `IDF` transformer."
   ]
  },
  {
   "cell_type": "code",
   "execution_count": 23,
   "id": "28815db5-7970-49d5-8d31-14f87fa7f0f8",
   "metadata": {},
   "outputs": [
    {
     "name": "stdout",
     "output_type": "stream",
     "text": [
      "+-----+----------------------------------+------------------------------------------+\n",
      "|label|sentence                          |tokens                                    |\n",
      "+-----+----------------------------------+------------------------------------------+\n",
      "|0.0  |Java has been around for a while  |[java, has, been, around, for, a, while]  |\n",
      "|0.0  |I wish Java could use case classes|[i, wish, java, could, use, case, classes]|\n",
      "|0.0  |Objects belong to classes         |[objects, belong, to, classes]            |\n",
      "+-----+----------------------------------+------------------------------------------+\n",
      "\n"
     ]
    }
   ],
   "source": [
    "from pyspark.ml.feature import IDF, Tokenizer, CountVectorizer\n",
    "\n",
    "corpus = session.createDataFrame ([\n",
    "                                (0.0, \"Java has been around for a while\"),\n",
    "                                (0.0, \"I wish Java could use case classes\"),\n",
    "                                (0.0, \"Objects belong to classes\")\n",
    "                                ], [\"label\", \"sentence\"])\n",
    "\n",
    "# First, get the tokens\n",
    "tokenizer = Tokenizer(inputCol ='sentence', outputCol ='tokens')\n",
    "tokens = tokenizer.transform(corpus)\n",
    "tokens.show(truncate=False)"
   ]
  },
  {
   "cell_type": "code",
   "execution_count": 24,
   "id": "e273c4a9-6ae3-4165-a57e-48355fa9a0c9",
   "metadata": {},
   "outputs": [
    {
     "name": "stdout",
     "output_type": "stream",
     "text": [
      "This is our vocabulary ['classes', 'java']\n",
      "+-----+--------------------+--------------------+-------------------+\n",
      "|label|            sentence|              tokens|        frequencies|\n",
      "+-----+--------------------+--------------------+-------------------+\n",
      "|  0.0|Java has been aro...|[java, has, been,...|      (2,[1],[1.0])|\n",
      "|  0.0|I wish Java could...|[i, wish, java, c...|(2,[0,1],[1.0,1.0])|\n",
      "|  0.0|Objects belong to...|[objects, belong,...|      (2,[0],[1.0])|\n",
      "+-----+--------------------+--------------------+-------------------+\n",
      "\n"
     ]
    }
   ],
   "source": [
    "# Second, compute the frequency of every token. We could remove stop words here.\n",
    "# We are going to reduce the corpus to a vocabulary of two words for those tokens appearing at least twice in the corpus.\n",
    "vectorizer = CountVectorizer(inputCol='tokens', outputCol='frequencies', minDF=2.0, vocabSize=2)\n",
    "model = vectorizer.fit(tokens)\n",
    "print(\"This is our vocabulary %s\" % model.vocabulary)\n",
    "frequencies = model.transform(tokens)\n",
    "frequencies.show()"
   ]
  },
  {
   "cell_type": "code",
   "execution_count": 25,
   "id": "4fea24e6-af7a-4fb4-9e48-261bcb15b71f",
   "metadata": {
    "scrolled": true
   },
   "outputs": [
    {
     "name": "stdout",
     "output_type": "stream",
     "text": [
      "+-----+----------------------------------+------------------------------------------+-------------------+---------------------------------------------------+\n",
      "|label|sentence                          |tokens                                    |frequencies        |idf                                                |\n",
      "+-----+----------------------------------+------------------------------------------+-------------------+---------------------------------------------------+\n",
      "|0.0  |Java has been around for a while  |[java, has, been, around, for, a, while]  |(2,[1],[1.0])      |(2,[1],[0.28768207245178085])                      |\n",
      "|0.0  |I wish Java could use case classes|[i, wish, java, could, use, case, classes]|(2,[0,1],[1.0,1.0])|(2,[0,1],[0.28768207245178085,0.28768207245178085])|\n",
      "|0.0  |Objects belong to classes         |[objects, belong, to, classes]            |(2,[0],[1.0])      |(2,[0],[0.28768207245178085])                      |\n",
      "+-----+----------------------------------+------------------------------------------+-------------------+---------------------------------------------------+\n",
      "\n"
     ]
    }
   ],
   "source": [
    "# Third, we compute the IDF\n",
    "idf = IDF(inputCol='frequencies', outputCol='idf')\n",
    "idf_model = idf.fit(frequencies)\n",
    "idf_result = idf_model.transform(frequencies)\n",
    "idf_result.show(truncate=False)"
   ]
  },
  {
   "cell_type": "markdown",
   "id": "86dffe00-a6d0-42d7-9fa5-22d21eed6c8f",
   "metadata": {},
   "source": [
    "## Word2Vec\n",
    "\n",
    "The Word2Vec represents the words of a document in a vector. This makes possible to operate with documents as vectors which makes possible to easily computes distances and enables other algorithms specially in NLP. Take a look at the original Google code [here](https://code.google.com/archive/p/word2vec/)"
   ]
  },
  {
   "cell_type": "code",
   "execution_count": 26,
   "id": "392260db-89c6-4d68-943a-daf85eb74b7a",
   "metadata": {},
   "outputs": [
    {
     "name": "stdout",
     "output_type": "stream",
     "text": [
      "+-------------------------------------------+\n",
      "|words                                      |\n",
      "+-------------------------------------------+\n",
      "|[Spark, is, quite, useful]                 |\n",
      "|[I, can, use, Spark, with, Python]         |\n",
      "|[Spark, is, not, so, difficult, after, all]|\n",
      "+-------------------------------------------+\n",
      "\n",
      "+-------------------------------------------+------------------------------------------------------------------+\n",
      "|words                                      |result                                                            |\n",
      "+-------------------------------------------+------------------------------------------------------------------+\n",
      "|[Spark, is, quite, useful]                 |[0.08182145655155182,-0.07318692095577717,-0.0631803400174249]    |\n",
      "|[I, can, use, Spark, with, Python]         |[0.016474373017748196,-1.7273581276337305E-4,-0.04478610997709135]|\n",
      "|[Spark, is, not, so, difficult, after, all]|[0.019738022836723497,0.029656097292900085,-0.033315843919159045] |\n",
      "+-------------------------------------------+------------------------------------------------------------------+\n",
      "\n"
     ]
    }
   ],
   "source": [
    "from pyspark.sql import SparkSession\n",
    "from pyspark.ml.feature import Word2Vec\n",
    "\n",
    "session = SparkSession.builder.appName('Example').master('local').getOrCreate()\n",
    "\n",
    "corpus = session.createDataFrame([\n",
    "    ('Spark is quite useful'.split(),),\n",
    "    ('I can use Spark with Python'.split(),),\n",
    "    ('Spark is not so difficult after all'.split(),),\n",
    "    ], ['words'])\n",
    "\n",
    "corpus.show(truncate=False)\n",
    "\n",
    "w2v = Word2Vec(inputCol='words', outputCol='result', vectorSize=3, minCount=0)\n",
    "w2v_model = w2v.fit(corpus)\n",
    "vectors = w2v_model.transform(corpus)\n",
    "vectors.show(truncate=False)\n"
   ]
  },
  {
   "cell_type": "markdown",
   "id": "298b11a6-1209-406d-a4c3-9bbe460d05fa",
   "metadata": {},
   "source": [
    "# Pipelines\n",
    "\n",
    "Most models are computed as a concatenation of operations, each operation transforming the original dataset. For example, normalization -> component analysis -> regression. MLlib uses the concept of pipelines (similinar to the one used in [SciKit](https://scikit-learn.org/stable/modules/generated/sklearn.pipeline.Pipeline.html)) to unify the execution of a sequence of steps into a single object. \n",
    "\n",
    "The pipeline is defined as a sequence of stages connecting transformers and estimators:\n",
    "\n",
    "- **Transformer**: receives an input dataframe and returns a transformed version (standardizers)\n",
    "- **Estimator**: receives an input dataframe and after fitting returns a transformer (linear regression, logistic regression, etc.)\n",
    "\n",
    "Creating a pipeline is equivalent to set the sequence of stages to be executed.\n",
    "\n",
    "```python\n",
    "from pyspark.ml.pipeline import Pipeline\n",
    "pipeline = Pipeline(stages=[standardizer, pca, lr])\n",
    "```\n",
    "\n",
    "Then we fit the model and transform the dataset to get the corresponding results:\n",
    "\n",
    "```python\n",
    "model = pipeline.fit(dataset)\n",
    "model.transform(dataset).show()\n",
    "```\n",
    "\n"
   ]
  },
  {
   "cell_type": "code",
   "execution_count": 27,
   "id": "cfbec7aa-2b32-4bd3-a676-a34b5e8c154c",
   "metadata": {},
   "outputs": [
    {
     "name": "stdout",
     "output_type": "stream",
     "text": [
      "+-----------------------------------+\n",
      "|docs                               |\n",
      "+-----------------------------------+\n",
      "|Spark is quite useful              |\n",
      "|I can use Spark with Python        |\n",
      "|Spark is not so difficult after all|\n",
      "+-----------------------------------+\n",
      "\n",
      "+-----------------------------------+-------------------------------------------+----------------------+-------------------------+\n",
      "|docs                               |tokens                                     |filtered              |frequencies              |\n",
      "+-----------------------------------+-------------------------------------------+----------------------+-------------------------+\n",
      "|Spark is quite useful              |[spark, is, quite, useful]                 |[spark, quite, useful]|(6,[0,2,3],[1.0,1.0,1.0])|\n",
      "|I can use Spark with Python        |[i, can, use, spark, with, python]         |[use, spark, python]  |(6,[0,1,5],[1.0,1.0,1.0])|\n",
      "|Spark is not so difficult after all|[spark, is, not, so, difficult, after, all]|[spark, difficult]    |(6,[0,4],[1.0,1.0])      |\n",
      "+-----------------------------------+-------------------------------------------+----------------------+-------------------------+\n",
      "\n",
      "--> Tokenizer_346e29794e54\n",
      "[Param(parent='Tokenizer_346e29794e54', name='inputCol', doc='input column name.'), Param(parent='Tokenizer_346e29794e54', name='outputCol', doc='output column name.')]\n",
      "--> StopWordsRemover_cdda6836267e\n",
      "[Param(parent='StopWordsRemover_cdda6836267e', name='caseSensitive', doc='whether to do a case sensitive comparison over the stop words'), Param(parent='StopWordsRemover_cdda6836267e', name='inputCol', doc='input column name.'), Param(parent='StopWordsRemover_cdda6836267e', name='inputCols', doc='input column names.'), Param(parent='StopWordsRemover_cdda6836267e', name='locale', doc='locale of the input. ignored when case sensitive is true'), Param(parent='StopWordsRemover_cdda6836267e', name='outputCol', doc='output column name.'), Param(parent='StopWordsRemover_cdda6836267e', name='outputCols', doc='output column names.'), Param(parent='StopWordsRemover_cdda6836267e', name='stopWords', doc='The words to be filtered out')]\n",
      "--> CountVectorizer_983c07eb2c8f\n",
      "[Param(parent='CountVectorizer_983c07eb2c8f', name='binary', doc='Binary toggle to control the output vector values. If True, all nonzero counts (after minTF filter applied) are set to 1. This is useful for discrete probabilistic models that model binary events rather than integer counts. Default False'), Param(parent='CountVectorizer_983c07eb2c8f', name='inputCol', doc='input column name.'), Param(parent='CountVectorizer_983c07eb2c8f', name='maxDF', doc='Specifies the maximum number of different documents a term could appear in to be included in the vocabulary. A term that appears more than the threshold will be ignored. If this is an integer >= 1, this specifies the maximum number of documents the term could appear in; if this is a double in [0,1), then this specifies the maximum fraction of documents the term could appear in. Default (2^63) - 1'), Param(parent='CountVectorizer_983c07eb2c8f', name='minDF', doc='Specifies the minimum number of different documents a term must appear in to be included in the vocabulary. If this is an integer >= 1, this specifies the number of documents the term must appear in; if this is a double in [0,1), then this specifies the fraction of documents. Default 1.0'), Param(parent='CountVectorizer_983c07eb2c8f', name='minTF', doc=\"Filter to ignore rare words in a document. For each document, terms with frequency/count less than the given threshold are ignored. If this is an integer >= 1, then this specifies a count (of times the term must appear in the document); if this is a double in [0,1), then this specifies a fraction (out of the document's token count). Note that the parameter is only used in transform of CountVectorizerModel and does not affect fitting. Default 1.0\"), Param(parent='CountVectorizer_983c07eb2c8f', name='outputCol', doc='output column name.'), Param(parent='CountVectorizer_983c07eb2c8f', name='vocabSize', doc='max size of the vocabulary. Default 1 << 18.')]\n"
     ]
    }
   ],
   "source": [
    "from pyspark.sql import SparkSession\n",
    "from pyspark.ml.feature import Tokenizer, StopWordsRemover, CountVectorizer\n",
    "from pyspark.ml.pipeline import Pipeline\n",
    "\n",
    "session = SparkSession.builder.appName('Example').master('local').getOrCreate()\n",
    "\n",
    "corpus = session.createDataFrame([\n",
    "    ('Spark is quite useful',),\n",
    "    ('I can use Spark with Python',),\n",
    "    ('Spark is not so difficult after all',),\n",
    "    ], ['docs'])\n",
    "\n",
    "corpus.show(truncate=False)\n",
    "\n",
    "tokenizer = Tokenizer(inputCol='docs', outputCol='tokens')\n",
    "stop_remover = StopWordsRemover(inputCol='tokens', outputCol='filtered')\n",
    "cv = CountVectorizer(inputCol='filtered', outputCol='frequencies')\n",
    "\n",
    "pipeline = Pipeline(stages=[tokenizer, stop_remover, cv])\n",
    "\n",
    "fitted = pipeline.fit(corpus)\n",
    "result = fitted.transform(corpus)\n",
    "result.show(truncate=False)\n",
    "\n",
    "for m in fitted.stages:\n",
    "    print('-->',m.uid)\n",
    "    print(m.params)\n",
    "\n"
   ]
  },
  {
   "cell_type": "markdown",
   "id": "5da88b32-14be-46a1-940a-9bfc61a43ced",
   "metadata": {},
   "source": [
    "# Linear Regression\n",
    "\n",
    "The Spark MLlib offers a linear regression implementation with $L_1$, $L_2$ and ElasticNet regularization.\n",
    "\n",
    "```python\n",
    "from pyspark.ml.regression import LinearRegression\n",
    "\n",
    "lr = LinearRegression(maxIter=10, regParam=0.3)\n",
    "    \n",
    "```\n",
    "\n",
    "In a naive example where we have a set of observatios corresponding to the equation $y=2x+3$:\n",
    "\n",
    "| y | x |\n",
    "|---|---|\n",
    "| 7 | 2 |\n",
    "| 9 | 3 |\n",
    "| 23 | 10 |\n",
    "\n",
    "We will train a model based on these observations to predict the output for $x=5$. Obviously, this will be $y=13$ ($y=2\\times 5 + 3$).\n"
   ]
  },
  {
   "cell_type": "code",
   "execution_count": 28,
   "id": "2f705518-2a54-4d99-938d-7ce357ae83ab",
   "metadata": {},
   "outputs": [
    {
     "name": "stdout",
     "output_type": "stream",
     "text": [
      "+-----+--------+\n",
      "|label|features|\n",
      "+-----+--------+\n",
      "|  7.0|   [2.0]|\n",
      "|  9.0|   [3.0]|\n",
      "| 23.0|  [10.0]|\n",
      "+-----+--------+\n",
      "\n",
      "Train our model...\n"
     ]
    },
    {
     "name": "stderr",
     "output_type": "stream",
     "text": [
      "24/01/25 11:46:40 WARN Instrumentation: [78acba3e] regParam is zero, which might cause numerical instability and overfitting.\n"
     ]
    }
   ],
   "source": [
    "from pyspark.sql import SparkSession\n",
    "from pyspark.ml.linalg import Vectors\n",
    "from pyspark.ml.regression import LinearRegression\n",
    "\n",
    "session = SparkSession.builder.appName(\"Example\").master(\"local\").getOrCreate()\n",
    "\n",
    "# our observations\n",
    "observations = [[7.0 , Vectors.dense ([2.0])] ,\n",
    "                [9.0 , Vectors.dense ([3.0])] ,\n",
    "                [23.0 , Vectors.dense ([10.0])]\n",
    "               ]\n",
    "\n",
    "# We create a dataset as a DataFrame using a colum for label, and a column for the features.\n",
    "# Observe that in this case, the features are a single column using a Vector.\n",
    "dataset = session.createDataFrame(observations, ['label', 'features'])\n",
    "\n",
    "dataset.show()\n",
    "\n",
    "print(\"Train our model...\")\n",
    "lr = LinearRegression()\n",
    "# Train the model\n",
    "model = lr.fit(dataset)"
   ]
  },
  {
   "cell_type": "markdown",
   "id": "37ef18b7-d5a6-4f73-91c5-0a011c4b244f",
   "metadata": {},
   "source": [
    "Now that we have trained our model we can investigate how does it look internally."
   ]
  },
  {
   "cell_type": "code",
   "execution_count": 29,
   "id": "55b724cf-91f1-4784-866f-39c528d8953d",
   "metadata": {},
   "outputs": [
    {
     "name": "stdout",
     "output_type": "stream",
     "text": [
      "These are the weights for our model:\n",
      "Coefficients: [1.9999999999999998]\n",
      "Intercept: 3.000000000000002\n"
     ]
    }
   ],
   "source": [
    "# Show fitted model\n",
    "print(\"These are the weights for our model:\")\n",
    "print(\"Coefficients: %s\" % model.coefficients)\n",
    "print(\"Intercept: %s\" % model.intercept)"
   ]
  },
  {
   "cell_type": "markdown",
   "id": "484ad947-4419-4692-880b-8928f763129a",
   "metadata": {},
   "source": [
    "Unsurprisingly, we have a coefficient near 2 and the intercept value is 3. We were trying to model a linear function so it was a straight forward case.\n",
    "\n",
    "We can check how was the training in terms of error, iterations, etc."
   ]
  },
  {
   "cell_type": "code",
   "execution_count": 30,
   "id": "953b95f4-da76-4f66-aa2f-b62166ba8b57",
   "metadata": {},
   "outputs": [
    {
     "name": "stdout",
     "output_type": "stream",
     "text": [
      "This is the training summary:\n",
      "Num iterations: 0\n",
      "Residuals:\n",
      "+--------------------+\n",
      "|           residuals|\n",
      "+--------------------+\n",
      "|-1.77635683940025...|\n",
      "|-1.77635683940025...|\n",
      "|                 0.0|\n",
      "+--------------------+\n",
      "\n",
      "RMSE: 0.000000\n"
     ]
    }
   ],
   "source": [
    "# Show the training summary\n",
    "print(\"This is the training summary:\")\n",
    "print(\"Num iterations: %d\" % model.summary.totalIterations)\n",
    "print(\"Residuals:\")\n",
    "model.summary.residuals.show()\n",
    "print(\"RMSE: %f\" % model.summary.rootMeanSquaredError)"
   ]
  },
  {
   "cell_type": "markdown",
   "id": "33d6abf3-f93d-4d9d-8de9-3cbbad08ec42",
   "metadata": {},
   "source": [
    "Now we are going to predict new outputs. We simply feed the model with dataframes using the same format we used to train it."
   ]
  },
  {
   "cell_type": "code",
   "execution_count": 31,
   "id": "809d8426-a00a-4615-88a9-8473417a6de1",
   "metadata": {},
   "outputs": [
    {
     "name": "stdout",
     "output_type": "stream",
     "text": [
      "+-----+--------+----------+\n",
      "|label|features|prediction|\n",
      "+-----+--------+----------+\n",
      "| 13.0|   [5.0]|      13.0|\n",
      "+-----+--------+----------+\n",
      "\n"
     ]
    }
   ],
   "source": [
    "# in this case we have the label and the observed feature value\n",
    "to_predict_items = [[13.0, Vectors.dense([5.0])]]\n",
    "\n",
    "to_predict = session.createDataFrame(to_predict_items, ['label', 'features'])\n",
    "\n",
    "predictions = model.transform(to_predict)\n",
    "predictions.show()\n"
   ]
  },
  {
   "cell_type": "markdown",
   "id": "f0a97a75-b30d-4970-9d1c-e5165f33ddba",
   "metadata": {},
   "source": [
    "Because our model is basically perfect, we have a prediction of 13 which is what we were expecting.\n",
    "\n",
    "In a more complex scenario, we will need to know how good is our model doing. We can check the error using any of the available error evaluators. In this case, for a linear regression we can use the `RegressionEvaluator`. For our `predictions` this value will be 0 because we committed no mistakes."
   ]
  },
  {
   "cell_type": "code",
   "execution_count": 32,
   "id": "561b68dd-6dc6-4441-afa6-57e0163c658f",
   "metadata": {},
   "outputs": [
    {
     "data": {
      "text/plain": [
       "0.0"
      ]
     },
     "execution_count": 32,
     "metadata": {},
     "output_type": "execute_result"
    }
   ],
   "source": [
    "from pyspark.ml.evaluation import RegressionEvaluator\n",
    "\n",
    "ev = RegressionEvaluator(metricName='rmse')\n",
    "\n",
    "ev.evaluate(predictions)"
   ]
  },
  {
   "cell_type": "markdown",
   "id": "a30a0e97-7dac-424a-9a04-538e86d2c8aa",
   "metadata": {},
   "source": [
    "# Logistic Regression\n",
    "\n",
    "The Spark MLLib offers a logicstic regression implementation for binominal and multinomial problems in the classification package (docs [here](https://spark.apache.org/docs/3.5.0/api/python/reference/api/pyspark.ml.classification.LogisticRegression.html?highlight=logistic#pyspark.ml.classification.LogisticRegression) for more details.)\n",
    "\n",
    "The example below trains a binary classifier to identify whether a point is contained inside a circle or not.\n",
    "\n",
    "| x | y | inside |\n",
    "|---|---|--------|\n",
    "|0 |0 | 1 |\n",
    "|0 |2 | 0 |\n",
    "|2 |0 | 0 |\n",
    "|1 |0 | 1 |\n",
    "|0 |1 | 1 |\n",
    "|0.3 | 0.87 | 1 |\n",
    "|1 | -1.3 | 1 |\n",
    "|0.9 | -1.2 | 1 |\n",
    "\n",
    "\n",
    "<img src=\"fig/log_circle.png\" width=\"300\"/>\n",
    "\n",
    "Similarly to what we did with the linear regression, we define our dataset based on the observations to fit our model."
   ]
  },
  {
   "cell_type": "code",
   "execution_count": 33,
   "id": "6cb366b9-e781-4837-abae-642649a7f815",
   "metadata": {},
   "outputs": [
    {
     "name": "stdout",
     "output_type": "stream",
     "text": [
      "+-----+----------+\n",
      "|label|  features|\n",
      "+-----+----------+\n",
      "|  1.0| [0.0,0.0]|\n",
      "|  0.0| [0.0,2.0]|\n",
      "|  0.0| [2.0,0.0]|\n",
      "|  1.0| [1.0,0.0]|\n",
      "|  1.0| [0.0,1.0]|\n",
      "|  1.0|[0.3,0.87]|\n",
      "|  0.0|[1.0,-1.3]|\n",
      "|  1.0|[0.9,-1.2]|\n",
      "+-----+----------+\n",
      "\n"
     ]
    }
   ],
   "source": [
    "from pyspark.sql import SparkSession\n",
    "from pyspark.ml.linalg import Vectors\n",
    "from pyspark.ml.classification import LogisticRegression\n",
    "\n",
    "session = SparkSession.builder.appName(\"Example\").master(\"local\").getOrCreate()\n",
    "\n",
    "observations = [[1.0, Vectors.dense([0.0 ,0.0])],\n",
    "                [0.0, Vectors.dense([0.0 ,2.0])],\n",
    "                [0.0, Vectors.dense([2.0 ,0.0])],\n",
    "                [1.0, Vectors.dense([1.0 ,0.0])],\n",
    "                [1.0, Vectors.dense([0.0 ,1.0])],\n",
    "                [1.0, Vectors.dense([0.3 ,0.87])],\n",
    "                [0.0, Vectors.dense([1.0, -1.3])],\n",
    "                [1.0, Vectors.dense([0.9, -1.2])]]\n",
    "\n",
    "dataset = session.createDataFrame(observations, ['label', 'features'])\n",
    "dataset.show()"
   ]
  },
  {
   "cell_type": "code",
   "execution_count": 34,
   "id": "0f6c60fd-3f4c-4387-8286-1c40bb135b24",
   "metadata": {},
   "outputs": [
    {
     "name": "stdout",
     "output_type": "stream",
     "text": [
      "Coefficients: [-2.6073306122669933,-1.002969191804841]\n",
      "Intercept: 2.380173815124733\n"
     ]
    }
   ],
   "source": [
    "# Train the model\n",
    "lr = LogisticRegression()\n",
    "model = lr.fit(dataset)\n",
    "\n",
    "# Show model internals\n",
    "print(\"Coefficients: %s\" % model.coefficients)\n",
    "print(\"Intercept: %s\" % model.intercept)"
   ]
  },
  {
   "cell_type": "markdown",
   "id": "98d88e7d-5659-4adc-99e8-01ac0954a2cc",
   "metadata": {},
   "source": [
    "We can take a look at the errors during the training phase. In this case, we look at the ROC curve, the AUC, and the F-measure by threshold.\n",
    "\n",
    "We can take a look at the ROC curve and the AUC"
   ]
  },
  {
   "cell_type": "code",
   "execution_count": 35,
   "id": "05096f73-2c3a-498b-a8ea-6c917537605b",
   "metadata": {},
   "outputs": [
    {
     "name": "stdout",
     "output_type": "stream",
     "text": [
      "+------------------+---+\n",
      "|               FPR|TPR|\n",
      "+------------------+---+\n",
      "|               0.0|0.0|\n",
      "|               0.0|0.2|\n",
      "|               0.0|0.4|\n",
      "|               0.0|0.6|\n",
      "|0.3333333333333333|0.6|\n",
      "|0.3333333333333333|0.8|\n",
      "|0.6666666666666666|0.8|\n",
      "|0.6666666666666666|1.0|\n",
      "|               1.0|1.0|\n",
      "|               1.0|1.0|\n",
      "+------------------+---+\n",
      "\n",
      "AUC: 0.800000\n",
      "+--------------------+-------------------+\n",
      "|           threshold|          F-Measure|\n",
      "+--------------------+-------------------+\n",
      "|  0.9153029099975847|0.33333333333333337|\n",
      "|  0.7985416752560925| 0.5714285714285715|\n",
      "|  0.7750656745222227| 0.7499999999999999|\n",
      "|  0.7458695786407464| 0.6666666666666665|\n",
      "|  0.6737931410385649| 0.8000000000000002|\n",
      "|  0.5924820101887259| 0.7272727272727272|\n",
      "| 0.44345374176351793| 0.8333333333333333|\n",
      "|0.055488744288528125| 0.7692307692307693|\n",
      "+--------------------+-------------------+\n",
      "\n"
     ]
    }
   ],
   "source": [
    "# ROC curve\n",
    "summary = model.summary\n",
    "summary.roc.show()\n",
    "\n",
    "# The AUC\n",
    "print(\"AUC: %f\" % summary.areaUnderROC)\n",
    "\n",
    "# F-measure by threshold\n",
    "summary.fMeasureByThreshold.show()"
   ]
  },
  {
   "cell_type": "markdown",
   "id": "1276c26e-6efc-42dd-a858-ebe831386e7c",
   "metadata": {},
   "source": [
    "The ROC curve looks much nicer if we have a real curve."
   ]
  },
  {
   "cell_type": "code",
   "execution_count": 36,
   "id": "85626cdc-dee5-48f4-b1f3-c424a5b31ac5",
   "metadata": {},
   "outputs": [
    {
     "data": {
      "image/png": "[encoded data removed]",
      "text/plain": [
       "<Figure size 640x480 with 1 Axes>"
      ]
     },
     "metadata": {},
     "output_type": "display_data"
    }
   ],
   "source": [
    "import matplotlib.pyplot as pyplot\n",
    "\n",
    "# Transform it into something more handy\n",
    "fpr = summary.roc.select('FPR').rdd.map(lambda r: r[0]).collect()\n",
    "tpr = summary.roc.select('TPR').rdd.map(lambda r: r[0]).collect()\n",
    "\n",
    "pyplot.plot(fpr, tpr, 'b-')\n",
    "pyplot.xlabel('FPR')\n",
    "pyplot.ylabel('TPR')\n",
    "pyplot.show()"
   ]
  },
  {
   "cell_type": "markdown",
   "id": "3db6b68b-1e0d-426d-a285-4ef3810da2e2",
   "metadata": {},
   "source": [
    "We do not have too many points to draw so our ROC curve looks so steeped.\n",
    "\n"
   ]
  },
  {
   "cell_type": "markdown",
   "id": "d9409835-7fb2-4367-afeb-b35b32ff3652",
   "metadata": {},
   "source": [
    "# Kmeans Clustering\n",
    "\n",
    "MLlib offers an implementation of KMeans with centroids initialization using [KMeans++]\n",
    "(https://en.wikipedia.org/wiki/K-means%2B%2B) ([docs](https://spark.apache.org/docs/3.5.0/api/python/reference/api/pyspark.ml.clustering.KMeans.html?highlight=kmeans#pyspark.ml.clustering.KMeans))\n",
    "\n",
    "The following example runs KMeans with $k=2$"
   ]
  },
  {
   "cell_type": "code",
   "execution_count": 38,
   "id": "ba7ffa38-6699-4c9f-971c-441f4e148953",
   "metadata": {},
   "outputs": [
    {
     "name": "stdout",
     "output_type": "stream",
     "text": [
      "+----------+\n",
      "|  features|\n",
      "+----------+\n",
      "| [0.0,0.0]|\n",
      "| [0.0,2.0]|\n",
      "| [2.0,0.0]|\n",
      "| [1.0,0.0]|\n",
      "| [0.0,1.0]|\n",
      "|[0.3,0.87]|\n",
      "|[1.0,-1.3]|\n",
      "|[0.9,-1.2]|\n",
      "+----------+\n",
      "\n"
     ]
    }
   ],
   "source": [
    "'''\n",
    "echo \"\n",
    "x,y\n",
    "0,0\n",
    "0,2\n",
    "2,0\n",
    "1,0\n",
    "0,1\n",
    "0.3,0.87\n",
    "1,-1.3\n",
    "0.9,-1.2\" > /tmp/kmeans_example.csv\n",
    "'''\n",
    "\n",
    "from pyspark.sql import SparkSession\n",
    "from pyspark.ml.clustering import KMeans\n",
    "from pyspark.ml.linalg import Vectors\n",
    "\n",
    "session = SparkSession.builder.appName(\"Example\").master(\"local\").getOrCreate()\n",
    "\n",
    "# Create the dataset\n",
    "observations = [[Vectors.dense([0,0])],\n",
    "                [Vectors.dense([0,2])],\n",
    "                [Vectors.dense([2,0])],\n",
    "                [Vectors.dense([1,0])],\n",
    "                [Vectors.dense([0,1])],\n",
    "                [Vectors.dense([0.3,0.87])],\n",
    "                [Vectors.dense([1,-1.3])],\n",
    "                [Vectors.dense([0.9,-1.2])]\n",
    "               ]\n",
    "\n",
    "dataset = session.createDataFrame(observations, ['features'])\n",
    "dataset.show()\n",
    "\n",
    "# Configure and fit the model\n",
    "kmeans = KMeans(k=2)\n",
    "model = kmeans.fit(dataset)"
   ]
  },
  {
   "cell_type": "markdown",
   "id": "898588b7-a860-4ea8-ba14-8105033ceb85",
   "metadata": {},
   "source": [
    "Once the model is fit, we can take a look at the predicted clusters and the generated centroids."
   ]
  },
  {
   "cell_type": "code",
   "execution_count": 39,
   "id": "181b82e3-6f71-49a8-b5c8-be3bd0c4de4c",
   "metadata": {},
   "outputs": [
    {
     "name": "stdout",
     "output_type": "stream",
     "text": [
      "Centroids [array([0.45714286, 0.19571429]), array([2., 0.])]\n"
     ]
    }
   ],
   "source": [
    "print(\"Centroids %s\" % model.clusterCenters())"
   ]
  },
  {
   "cell_type": "code",
   "execution_count": 40,
   "id": "ceade20d-be89-44f6-bb97-9873240c8bcf",
   "metadata": {},
   "outputs": [
    {
     "name": "stdout",
     "output_type": "stream",
     "text": [
      "+----------+----------+\n",
      "|  features|prediction|\n",
      "+----------+----------+\n",
      "| [0.0,0.0]|         0|\n",
      "| [0.0,2.0]|         0|\n",
      "| [2.0,0.0]|         1|\n",
      "| [1.0,0.0]|         0|\n",
      "| [0.0,1.0]|         0|\n",
      "|[0.3,0.87]|         0|\n",
      "|[1.0,-1.3]|         0|\n",
      "|[0.9,-1.2]|         0|\n",
      "+----------+----------+\n",
      "\n"
     ]
    }
   ],
   "source": [
    "model.summary.predictions.show()"
   ]
  },
  {
   "cell_type": "markdown",
   "id": "f5b326a8-be0d-447c-a184-af8afb7643c3",
   "metadata": {},
   "source": [
    "For a more visual analysis, we can plot the centroids and the reference circle. There is not too much data for a good clustering. However, the centroids are located inside and outside the circle which in a first attempt looks promising. Obviously the data distribution is a bit biased and forces one of the centroids to the bottom right. How the algorithm would evolve with a more uniformly distributed dataset remains as an additional exercise.\n",
    "\n",
    "Observe that we need some workaround to get the correct `numpy` shape for our plot."
   ]
  },
  {
   "cell_type": "code",
   "execution_count": 41,
   "id": "e8e7b11d-17f6-4af1-b4aa-7955d3bbb040",
   "metadata": {},
   "outputs": [
    {
     "data": {
      "image/png": "[encoded data removed]",
      "text/plain": [
       "<Figure size 640x480 with 1 Axes>"
      ]
     },
     "metadata": {},
     "output_type": "display_data"
    }
   ],
   "source": [
    "import matplotlib.pyplot as pyplot\n",
    "import numpy as np\n",
    "\n",
    "# Transform it into something more handy\n",
    "features = model.summary.predictions.select('features').rdd.map(lambda r: r[0]).collect()\n",
    "predictions = model.summary.predictions.select('prediction').rdd.map(lambda r: r[0]).collect()\n",
    "\n",
    "x,y = np.array(features)[:,0], np.array(features)[:,1]\n",
    "\n",
    "ax = pyplot.gca()\n",
    "ax.cla()\n",
    "\n",
    "# Plot the predictions\n",
    "ax.scatter(x,y,c=predictions)\n",
    "\n",
    "# Plot the centroids\n",
    "centroids = np.array(model.clusterCenters())\n",
    "ax.scatter(x=centroids[:,0], y=centroids[:,1], marker='x')\n",
    "\n",
    "# Plot the circle as a reference\n",
    "circle = pyplot.Circle((0,0),1, color='blue', fill=False)\n",
    "ax.add_patch(circle)\n",
    "\n",
    "ax.set_xlim((-2.5,2.5))\n",
    "ax.set_ylim((-2.5,2.5))\n",
    "\n",
    "# Make a square plot for a better visualization of the circle\n",
    "ax.set_aspect('equal', adjustable='box')\n",
    "\n",
    "pyplot.show()\n",
    "\n",
    "session.stop()"
   ]
  },
  {
   "cell_type": "markdown",
   "id": "7386f590-7665-4e2f-b7eb-1422fb827147",
   "metadata": {},
   "source": [
    "# Topic Modelling\n",
    "\n",
    "The Latent Dirichlet Allocation (LDA) (do not confuse with Linear Discriminant Analysis) is a method for topic modelling. This method can be used to extract the topics contained in a corpus. For example: extract the topics from a collection of users' opinions, main ideas discussed in wiki-leaks, etc.\n",
    "\n",
    "LDA represents documents as a mixture that spit out words with certain probabilities. The final model is solved using bayesian inference.\n",
    "\n",
    "$$\n",
    "P(\\boldsymbol{W}, \\boldsymbol{Z}, \\boldsymbol{\\theta}, \\boldsymbol{\\varphi};\\alpha,\\beta) = \\prod_{i=1}^K P(\\varphi_i;\\beta) \\prod_{j=1}^M P(\\theta_j;\\alpha) \\prod_{t=1}^N P(Z_{j,t}\\mid\\theta_j)P(W_{j,t}\\mid\\varphi_{Z_{j,t}})\n",
    "$$\n",
    "\n",
    "where\n",
    "- $\\alpha$ is the parameter of the Dirichlet prior on the per-document topic distributions\n",
    "- $\\beta$ is the parameter of the Dirichlet prior on the per-topic word distribution\n",
    "- $\\theta_{m}$ is the topic distribution for document m\n",
    "- $\\varphi_{k}$ is the word distribution for topic k\n",
    "- $z_{mn}$ is the topic for the n-th word in document m\n",
    "- $w_{mn}$ is the specified word\n",
    "\n",
    "In pseudocode the algorithm can be described as follows [[Blei et al.](http://ai.stanford.edu/~ang/papers/jair03-lda.pdf)]:\n",
    "\n",
    "    Assign randomly each word in every document a topic\n",
    "    for number of iterations do\n",
    "        for every word w in document d do\n",
    "            for each topic t ∈ K do\n",
    "                Compute the proportion of words in d assigned to t\n",
    "                Compute the proportion of assignments to t that come from w\n",
    "                Reassign a new topic using p(t|d) · p(w|t)\n",
    "            end for\n",
    "        end for\n",
    "    end for\n",
    "\n",
    "After a certain number of iterations, LDA reaches a steady state with a mixture of topics per document. Every document belongs to the $K$ topics with a certain probability. A plausible example could be as follows:\n",
    "\n",
    "| Document | Probability topic 1 | Probability topic 2 |\n",
    "|----------|---------------------|---------------------|\n",
    "|I like apples | 1 | 0 |\n",
    "|I eat apples | 0  | 1 |\n",
    "|There is no white apples | 0.8 | 0.2 |\n",
    "|I don't eat apples | 0.3 | 0.7 |\n",
    "\n",
    "Spark MLlib offers and LDA implementation using:\n",
    "- EMLDAOptimizer: batch approach\n",
    "- OnlineLDAOptimizer: incremental learning solution\n",
    "\n",
    "The fitted model offers a description of the $K$ topics and the transformer computes the probability of every document to belong to every topic as described above ([ref](https://spark.apache.org/docs/3.5.0/api/python/reference/api/pyspark.ml.clustering.LDA.html?highlight=lda#lda))."
   ]
  },
  {
   "cell_type": "code",
   "execution_count": 45,
   "id": "683f6e47-e4aa-4bb7-abfd-3b9cba8a9d82",
   "metadata": {},
   "outputs": [
    {
     "name": "stderr",
     "output_type": "stream",
     "text": [
      "                                                                                \r"
     ]
    },
    {
     "name": "stdout",
     "output_type": "stream",
     "text": [
      "+-----+----------------------------------+------------------------------------------+\n",
      "|label|sentence                          |tokens                                    |\n",
      "+-----+----------------------------------+------------------------------------------+\n",
      "|0.0  |Java has been around for a while  |[java, has, been, around, for, a, while]  |\n",
      "|0.0  |I wish Java could use case classes|[i, wish, java, could, use, case, classes]|\n",
      "|0.0  |Objects belong to classes in Java |[objects, belong, to, classes, in, java]  |\n",
      "+-----+----------------------------------+------------------------------------------+\n",
      "\n",
      "This is our vocabulary ['java', 'classes']\n",
      "+-----+--------------------+--------------------+-------------------+\n",
      "|label|            sentence|              tokens|        frequencies|\n",
      "+-----+--------------------+--------------------+-------------------+\n",
      "|  0.0|Java has been aro...|[java, has, been,...|      (2,[0],[1.0])|\n",
      "|  0.0|I wish Java could...|[i, wish, java, c...|(2,[0,1],[1.0,1.0])|\n",
      "|  0.0|Objects belong to...|[objects, belong,...|(2,[0,1],[1.0,1.0])|\n",
      "+-----+--------------------+--------------------+-------------------+\n",
      "\n"
     ]
    }
   ],
   "source": [
    "from pyspark.sql import SparkSession\n",
    "from pyspark.ml.linalg import Vectors\n",
    "from pyspark.ml.feature import IDF, Tokenizer, CountVectorizer\n",
    "\n",
    "session = SparkSession.builder.appName(\"Example\").master(\"local\").getOrCreate()\n",
    "\n",
    "corpus = session.createDataFrame ([\n",
    "                                (0.0, 'Java has been around for a while'),\n",
    "                                (0.0, 'I wish Java could use case classes'),\n",
    "                                (0.0, 'Objects belong to classes in Java'),\n",
    "                                ], ['label', 'sentence'])\n",
    "\n",
    "# First, get the tokens\n",
    "tokenizer = Tokenizer(inputCol ='sentence', outputCol ='tokens')\n",
    "tokens = tokenizer.transform(corpus)\n",
    "tokens.show(truncate=False)\n",
    "\n",
    "\n",
    "# Second, compute the frequency of every token. We could remove stop words here.\n",
    "# We are going to reduce the corpus to a vocabulary of two words for those tokens appearing at least twice in the corpus.\n",
    "vectorizer = CountVectorizer(inputCol='tokens', outputCol='frequencies', minDF=2.0, vocabSize=2)\n",
    "model = vectorizer.fit(tokens)\n",
    "print(\"This is our vocabulary %s\" % model.vocabulary)\n",
    "frequencies = model.transform(tokens)\n",
    "frequencies.show()\n",
    "\n"
   ]
  },
  {
   "cell_type": "code",
   "execution_count": 46,
   "id": "c4e7dc70-5cf6-496f-9f29-48fd176fd2ee",
   "metadata": {
    "scrolled": true
   },
   "outputs": [
    {
     "name": "stdout",
     "output_type": "stream",
     "text": [
      "+-----+-----------+----------------------------------------+\n",
      "|topic|termIndices|termWeights                             |\n",
      "+-----+-----------+----------------------------------------+\n",
      "|0    |[0, 1]     |[0.591822231531493, 0.40817776846850695]|\n",
      "|1    |[0, 1]     |[0.6081744624264148, 0.3918255375735851]|\n",
      "+-----+-----------+----------------------------------------+\n",
      "\n"
     ]
    }
   ],
   "source": [
    "from pyspark.ml.clustering import LDA\n",
    "lda = LDA(k=2, maxIter = 10, featuresCol='frequencies', optimizer='em')\n",
    "lda_model = lda.fit(frequencies)\n",
    "\n",
    "topics = lda_model.describeTopics(3)\n",
    "topics.show(truncate=False)\n",
    "\n",
    "session.stop()"
   ]
  },
  {
   "cell_type": "markdown",
   "id": "9ec02c46-bd2e-49f3-a0ee-6ee9c5b043eb",
   "metadata": {},
   "source": [
    "# Evaluation\n",
    "\n",
    "In order to understand the correctness of a model we need to compute its associated prediction error. First, we have to understand that during the training phase (fitting) our model should not use observations used during the evaluation phase. In this way, we check if our model can really make predictions on an observation never seen before and avoid potential overfitting. To do so, we have to differentiate between training and test datasets.\n",
    "\n",
    "For the evaluation, MLlib offers a collection of evaluators. Depending on the prediction problem we are working on, we have to select the corresponding error evaluator which usually supports a variety of metrics.\n"
   ]
  },
  {
   "cell_type": "markdown",
   "id": "9e60395b-da1c-43b6-bac2-71149f1acaaa",
   "metadata": {},
   "source": [
    "## Random split\n",
    "\n",
    "A simple way to obtain is using the `randomSplit` method from the data frame objects. We simply indicate the ratio from the total of rows dedicated to the train and evaluation and we get both "
   ]
  },
  {
   "cell_type": "code",
   "execution_count": 47,
   "id": "53891e42-33b9-4f75-b092-b534ed11319a",
   "metadata": {},
   "outputs": [
    {
     "name": "stderr",
     "output_type": "stream",
     "text": [
      "                                                                                \r"
     ]
    },
    {
     "name": "stdout",
     "output_type": "stream",
     "text": [
      "+---+--------------------+\n",
      "| id|                 doc|\n",
      "+---+--------------------+\n",
      "|  0|I think I saw som...|\n",
      "|  1|  PySpark is awesome|\n",
      "|  2|Python = data powers|\n",
      "|  3|You don't need sc...|\n",
      "|  4|Programming is an...|\n",
      "+---+--------------------+\n",
      "\n",
      "Our training dataset\n",
      "+---+-----------------------+\n",
      "|id |doc                    |\n",
      "+---+-----------------------+\n",
      "|0  |I think I saw something|\n",
      "|2  |Python = data powers   |\n",
      "|4  |Programming is an art  |\n",
      "+---+-----------------------+\n",
      "\n",
      "Our evaluation dataset\n",
      "+---+---------------------------------+\n",
      "|id |doc                              |\n",
      "+---+---------------------------------+\n",
      "|1  |PySpark is awesome               |\n",
      "|3  |You don't need scala to use Spark|\n",
      "+---+---------------------------------+\n",
      "\n"
     ]
    }
   ],
   "source": [
    "from pyspark.sql import SparkSession\n",
    "from pyspark.ml.linalg import Vectors\n",
    "\n",
    "session = SparkSession.builder.appName('Example').master('local').getOrCreate()\n",
    "\n",
    "dataset = session.createDataFrame([\n",
    "    (0, \"I think I saw something\"),\n",
    "    (1, \"PySpark is awesome\"),\n",
    "    (2, \"Python = data powers\"),\n",
    "    (3, \"You don't need scala to use Spark\"),\n",
    "    (4, \"Programming is an art\"),\n",
    "], ['id', 'doc'])\n",
    "\n",
    "dataset.show()\n",
    "\n",
    "train_ratio = 0.6\n",
    "eval_ratio = 0.4\n",
    "\n",
    "train, eval = dataset.randomSplit([train_ratio, eval_ratio])\n",
    "print('Our training dataset')\n",
    "train.show(truncate=False)\n",
    "print('Our evaluation dataset')\n",
    "eval.show(truncate=False)\n",
    "\n",
    "session.stop()"
   ]
  },
  {
   "cell_type": "markdown",
   "id": "1e1538d8-d97a-49e9-b18f-bed40f07e9a0",
   "metadata": {},
   "source": [
    "## Binary classification\n",
    "\n",
    "The `BinaryClassificationEvaluator` expects a column with the labels and one with the predictions. The predictions can be represented in two ways:\n",
    "- Type double. Where we represent binary values 0/1 or the probability of having label 1.\n",
    "- Length 2 vector. Raw predictions, scores, or label probabilities.\n",
    "\n",
    "Two different metrics can be selected with the `metricName` param: `areaUnderPR` or `areaUnderROC`. Check the [docs](https://spark.apache.org/docs/latest/api/python/reference/api/pyspark.mllib.evaluation.BinaryClassificationMetrics.html?highlight=areaunderpr#binaryclassificationmetrics) for more details."
   ]
  },
  {
   "cell_type": "code",
   "execution_count": 48,
   "id": "3044afe8-a92a-4fa1-b6e8-83931c72f31c",
   "metadata": {},
   "outputs": [
    {
     "name": "stderr",
     "output_type": "stream",
     "text": [
      "\n",
      "[Stage 0:>                                                          (0 + 1) / 1]\n",
      "\n",
      "                                                                                \r"
     ]
    },
    {
     "name": "stdout",
     "output_type": "stream",
     "text": [
      "+-----+----------+\n",
      "|label|prediction|\n",
      "+-----+----------+\n",
      "|  1.0|      0.35|\n",
      "|  1.0|       0.9|\n",
      "|  1.0|      0.18|\n",
      "|  0.0|       1.0|\n",
      "+-----+----------+\n",
      "\n"
     ]
    }
   ],
   "source": [
    "from pyspark.sql import SparkSession\n",
    "from pyspark.ml.linalg import Vectors\n",
    "from pyspark.ml.evaluation import BinaryClassificationEvaluator\n",
    "\n",
    "session = SparkSession.builder.appName('Example').master('local').getOrCreate()\n",
    "\n",
    "label_preds = session.createDataFrame([\n",
    "    (1.0, 0.35),\n",
    "    (1.0, 0.9),\n",
    "    (1.0, 0.18),\n",
    "    (0.0, 1.0),\n",
    "],['label', 'prediction'])\n",
    "\n",
    "label_preds.show()\n",
    "\n",
    "bce = BinaryClassificationEvaluator(labelCol='label', rawPredictionCol='prediction', metricName='areaUnderPR')\n",
    "bce.evaluate(label_preds)\n",
    "\n",
    "session.stop()"
   ]
  },
  {
   "cell_type": "markdown",
   "id": "b3916e1f-146f-4df1-9b6f-a17c93faa465",
   "metadata": {},
   "source": [
    "## Regression \n",
    "\n",
    "Evaluator for regression models. The following metrics can be specified in the `metricName` param:\n",
    "- rmse: root mean squared error (default)\n",
    "- mse: mean squared error\n",
    "- r2: $r^2$ metric\n",
    "- mae: mean absolute error\n",
    "- var: explained variance"
   ]
  },
  {
   "cell_type": "code",
   "execution_count": 49,
   "id": "642434d4-e827-4f74-b949-a66fadbe24d0",
   "metadata": {},
   "outputs": [
    {
     "name": "stderr",
     "output_type": "stream",
     "text": [
      "\n",
      "[Stage 0:>                                                          (0 + 1) / 1]\n",
      "\n",
      "                                                                                \r"
     ]
    },
    {
     "name": "stdout",
     "output_type": "stream",
     "text": [
      "+-----+----------+\n",
      "|label|prediction|\n",
      "+-----+----------+\n",
      "| 15.0|      11.0|\n",
      "| 5.32|       6.0|\n",
      "|  1.4|       3.8|\n",
      "|  5.0|       1.8|\n",
      "+-----+----------+\n",
      "\n"
     ]
    }
   ],
   "source": [
    "from pyspark.sql import SparkSession\n",
    "from pyspark.ml.linalg import Vectors\n",
    "from pyspark.ml.evaluation import RegressionEvaluator\n",
    "\n",
    "session = SparkSession.builder.appName('Example').master('local').getOrCreate()\n",
    "\n",
    "label_preds = session.createDataFrame([\n",
    "    (15.0, 11.0),\n",
    "    (5.32, 6.0),\n",
    "    (1.40, 3.8),\n",
    "    (5.0, 1.8),\n",
    "],['label', 'prediction'])\n",
    "\n",
    "label_preds.show()\n",
    "\n",
    "# We compute the mean absolute error (MAE)\n",
    "re = RegressionEvaluator(labelCol='label', predictionCol='prediction', metricName='mae')\n",
    "re.evaluate(label_preds)\n",
    "\n",
    "session.stop()"
   ]
  },
  {
   "cell_type": "markdown",
   "id": "8fd426e9-146d-4756-9cca-87d286b31340",
   "metadata": {},
   "source": [
    "## Cross-validation\n",
    "\n",
    "Cross validation splits the dataset into $k$ folds and uses $k-1$ folds for training and one fold for evaluation. This operaiton is done $k$ times ensuring variability during the process.\n",
    "\n",
    "Assuming $k=4$ we split a dataset $D$ into $\\{D_0,D_1,D_2,D_3\\}$ generating the training-evaluation pairs as shown below.\n",
    "\n",
    "| Training | Evaluation |\n",
    "|:----------:|------------:|\n",
    "| $$\\{D_1,D_2,D_3\\}$$ | $\\{D_0\\}$ |\n",
    "| $$\\{D_0,D_2,D_3\\}$$ | $\\{D_1\\}$ |\n",
    "| $$\\{D_0,D_1,D_3\\}$$ | $\\{D_2\\}$ |\n",
    "| $$\\{D_0,D_1,D_2\\}$$ | $\\{D_3\\}$ |\n",
    "\n",
    "\n",
    "\n",
    "The cross validation has several advantages:\n",
    "- It is [embarrasingly parallel](https://en.wikipedia.org/wiki/Embarrasissingly_parallel)\n",
    "- The quality of a model is the average of its evaluation over the different evaluatio sets\n",
    "- Userful approach to the hyperparameter problem\n",
    "\n",
    "And some disadvantages:\n",
    "- It can be very expensive with large datasets\n",
    "- Transformations using information extracted from the whole dataset instead of the training folds may lead to biased results\n",
    "\n",
    "In MLlib we simply have to configure a `CrossValidator` indicating the estimator, the evaluator, the params (if any) and the number of folds.\n",
    "\n",
    "```python\n",
    "from pyspark.ml.tuning import CrossValidator\n",
    "\n",
    "cv = CrossValidator(estimator=pipeline, evaluator=BinaryClassificationEvaluator(), estimatorParamMaps=paramGrid, numFolds=10)\n",
    "```\n",
    "\n",
    "The `CrossValidator` will use the evaluator to identify the best model. Then, it can be used as usual\n",
    "\n",
    "```python\n",
    "cv_model = cv.fit(dataset)\n",
    "cv_model.transform(testDataset)\n",
    "```\n",
    "\n",
    "The `ParamGridBuilder` permits to create a grid for the search of hyperparameters that can be later used in the cross validation.\n",
    "\n",
    "```python\n",
    "from pyspark.ml.tuning import ParamGridBuilder\n",
    "\n",
    "grid = ParamGridBuilder()\n",
    "grid.addGrid(param=lm.elasticNetParam, values=[0.1,0.3])\n",
    "grid.build()\n",
    "```"
   ]
  }
 ],
 "metadata": {
  "kernelspec": {
   "display_name": "Python 3 (ipykernel)",
   "language": "python",
   "name": "python3"
  },
  "language_info": {
   "codemirror_mode": {
    "name": "ipython",
    "version": 3
   },
   "file_extension": ".py",
   "mimetype": "text/x-python",
   "name": "python",
   "nbconvert_exporter": "python",
   "pygments_lexer": "ipython3",
   "version": "3.11.2"
  }
 },
 "nbformat": 4,
 "nbformat_minor": 5
}
